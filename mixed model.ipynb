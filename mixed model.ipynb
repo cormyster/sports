{
 "cells": [
  {
   "cell_type": "code",
   "execution_count": null,
   "id": "3a06167c",
   "metadata": {},
   "outputs": [],
   "source": [
    "import pandas as pd\n",
    "import numpy as np\n",
    "import os\n",
    "import bambi as bmb\n",
    "from under_over import UnderOver "
   ]
  },
  {
   "cell_type": "code",
   "execution_count": 2,
   "id": "afe5df4e",
   "metadata": {},
   "outputs": [
    {
     "name": "stdout",
     "output_type": "stream",
     "text": [
      "Available data: ARG, AUT, B1, BRA, CHN, D1, D2, DNK, E0, E1, E2, E3, EC, F1, F2, FIN, G1, I1, I2, IRL, JPN, MEX, N1, NOR, P1, POL, ROU, RUS, SC0, SC1, SC2, SC3, SP1, SP2, SWE, SWZ, T1, USA\n"
     ]
    }
   ],
   "source": [
    "leagues = []\n",
    "for file in os.listdir(\"Data\"):\n",
    "    if file.endswith(\".xlsx\") or file.endswith(\".csv\"):\n",
    "        leagues.append(file.split(\".\")[0])\n",
    "print(f\"Available data: {', '.join(leagues)}\")"
   ]
  },
  {
   "cell_type": "code",
   "execution_count": 3,
   "id": "28349ece",
   "metadata": {},
   "outputs": [
    {
     "data": {
      "text/html": [
       "<div>\n",
       "<style scoped>\n",
       "    .dataframe tbody tr th:only-of-type {\n",
       "        vertical-align: middle;\n",
       "    }\n",
       "\n",
       "    .dataframe tbody tr th {\n",
       "        vertical-align: top;\n",
       "    }\n",
       "\n",
       "    .dataframe thead th {\n",
       "        text-align: right;\n",
       "    }\n",
       "</style>\n",
       "<table border=\"1\" class=\"dataframe\">\n",
       "  <thead>\n",
       "    <tr style=\"text-align: right;\">\n",
       "      <th></th>\n",
       "      <th>HomeTeam</th>\n",
       "      <th>AwayTeam</th>\n",
       "      <th>FTHG</th>\n",
       "      <th>FTAG</th>\n",
       "    </tr>\n",
       "  </thead>\n",
       "  <tbody>\n",
       "    <tr>\n",
       "      <th>0</th>\n",
       "      <td>Arsenal Sarandi</td>\n",
       "      <td>Union de Santa Fe</td>\n",
       "      <td>1</td>\n",
       "      <td>0</td>\n",
       "    </tr>\n",
       "    <tr>\n",
       "      <th>1</th>\n",
       "      <td>Velez Sarsfield</td>\n",
       "      <td>Argentinos Jrs</td>\n",
       "      <td>3</td>\n",
       "      <td>0</td>\n",
       "    </tr>\n",
       "    <tr>\n",
       "      <th>2</th>\n",
       "      <td>Racing Club</td>\n",
       "      <td>Atl. Rafaela</td>\n",
       "      <td>1</td>\n",
       "      <td>1</td>\n",
       "    </tr>\n",
       "    <tr>\n",
       "      <th>3</th>\n",
       "      <td>Colon Santa FE</td>\n",
       "      <td>Lanus</td>\n",
       "      <td>1</td>\n",
       "      <td>0</td>\n",
       "    </tr>\n",
       "    <tr>\n",
       "      <th>4</th>\n",
       "      <td>Quilmes</td>\n",
       "      <td>Boca Juniors</td>\n",
       "      <td>3</td>\n",
       "      <td>0</td>\n",
       "    </tr>\n",
       "  </tbody>\n",
       "</table>\n",
       "</div>"
      ],
      "text/plain": [
       "          HomeTeam           AwayTeam  FTHG  FTAG\n",
       "0  Arsenal Sarandi  Union de Santa Fe     1     0\n",
       "1  Velez Sarsfield     Argentinos Jrs     3     0\n",
       "2      Racing Club       Atl. Rafaela     1     1\n",
       "3   Colon Santa FE              Lanus     1     0\n",
       "4          Quilmes       Boca Juniors     3     0"
      ]
     },
     "execution_count": 3,
     "metadata": {},
     "output_type": "execute_result"
    }
   ],
   "source": [
    "league = \"ARG\"\n",
    "try:\n",
    "    df = pd.read_excel(f\"Data/{league}.xlsx\")\n",
    "except:\n",
    "    df = pd.read_csv(f\"Data/{league}.csv\")\n",
    "\n",
    "try:\n",
    "    df = df[[\"HomeTeam\", \"AwayTeam\", \"FTHG\", \"FTAG\"]]\n",
    "except KeyError: # some of the leagues have mismatched names\n",
    "    df.rename(columns={\"HG\": \"FTHG\", \"AG\": \"FTAG\"}, inplace=True)\n",
    "    df.rename(columns={\"Home\": \"HomeTeam\", \"Away\": \"AwayTeam\"}, inplace=True)\n",
    "\n",
    "    df = df[[\"HomeTeam\", \"AwayTeam\", \"FTHG\", \"FTAG\"]]\n",
    "\n",
    "df.head()"
   ]
  },
  {
   "cell_type": "code",
   "execution_count": null,
   "id": "c7398fa4",
   "metadata": {},
   "outputs": [],
   "source": []
  }
 ],
 "metadata": {
  "kernelspec": {
   "display_name": "Python 3",
   "language": "python",
   "name": "python3"
  },
  "language_info": {
   "codemirror_mode": {
    "name": "ipython",
    "version": 3
   },
   "file_extension": ".py",
   "mimetype": "text/x-python",
   "name": "python",
   "nbconvert_exporter": "python",
   "pygments_lexer": "ipython3",
   "version": "3.13.4"
  }
 },
 "nbformat": 4,
 "nbformat_minor": 5
}
