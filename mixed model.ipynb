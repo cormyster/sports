{
 "cells": [
  {
   "cell_type": "code",
   "execution_count": 1,
   "id": "a56497b5",
   "metadata": {},
   "outputs": [],
   "source": [
    "#!conda install -c conda-forge rpy2\n",
    "#!conda install -c ejolly -c defaults -c conda-forge pymer4"
   ]
  },
  {
   "cell_type": "code",
   "execution_count": 2,
   "id": "3a06167c",
   "metadata": {},
   "outputs": [],
   "source": [
    "import pandas as pd\n",
    "import numpy as np\n",
    "import os\n",
    "from win_draw_loss import get_elo\n",
    "from pymer4.models import Lmer\n",
    "from sklearn.preprocessing import StandardScaler\n",
    "from statsmodels.formula.api import glm\n",
    "import statsmodels.api as sm"
   ]
  },
  {
   "cell_type": "code",
   "execution_count": 3,
   "id": "afe5df4e",
   "metadata": {},
   "outputs": [
    {
     "name": "stdout",
     "output_type": "stream",
     "text": [
      "Available data: N1, F1, SC0, D1, EC, FIN, T1, SWE, ARG, MEX, POL, IRL, G1, SC3, SP1, E2, E3, USA, P1, E0, B1, JPN, SWZ, I1, CHN, AUT, SC2, SP2, RUS, DNK, ROU, I2, BRA, SC1, D2, NOR, E1, F2\n"
     ]
    }
   ],
   "source": [
    "leagues = []\n",
    "for file in os.listdir(\"Data\"):\n",
    "    if file.endswith(\".xlsx\") or file.endswith(\".csv\"):\n",
    "        leagues.append(file.split(\".\")[0])\n",
    "print(f\"Available data: {', '.join(leagues)}\")"
   ]
  },
  {
   "cell_type": "code",
   "execution_count": 4,
   "id": "28349ece",
   "metadata": {},
   "outputs": [
    {
     "data": {
      "text/html": [
       "<div>\n",
       "<style scoped>\n",
       "    .dataframe tbody tr th:only-of-type {\n",
       "        vertical-align: middle;\n",
       "    }\n",
       "\n",
       "    .dataframe tbody tr th {\n",
       "        vertical-align: top;\n",
       "    }\n",
       "\n",
       "    .dataframe thead th {\n",
       "        text-align: right;\n",
       "    }\n",
       "</style>\n",
       "<table border=\"1\" class=\"dataframe\">\n",
       "  <thead>\n",
       "    <tr style=\"text-align: right;\">\n",
       "      <th></th>\n",
       "      <th>HomeTeam</th>\n",
       "      <th>AwayTeam</th>\n",
       "      <th>FTHG</th>\n",
       "      <th>FTAG</th>\n",
       "      <th>EloDiff</th>\n",
       "    </tr>\n",
       "  </thead>\n",
       "  <tbody>\n",
       "    <tr>\n",
       "      <th>0</th>\n",
       "      <td>Shamrock Rovers</td>\n",
       "      <td>Monaghan</td>\n",
       "      <td>3</td>\n",
       "      <td>1</td>\n",
       "      <td>0.082928</td>\n",
       "    </tr>\n",
       "    <tr>\n",
       "      <th>1</th>\n",
       "      <td>Sligo Rovers</td>\n",
       "      <td>UC Dublin</td>\n",
       "      <td>2</td>\n",
       "      <td>1</td>\n",
       "      <td>-0.064281</td>\n",
       "    </tr>\n",
       "    <tr>\n",
       "      <th>2</th>\n",
       "      <td>Cork City</td>\n",
       "      <td>Shamrock Rovers</td>\n",
       "      <td>1</td>\n",
       "      <td>1</td>\n",
       "      <td>-0.282976</td>\n",
       "    </tr>\n",
       "    <tr>\n",
       "      <th>3</th>\n",
       "      <td>Drogheda</td>\n",
       "      <td>Dundalk</td>\n",
       "      <td>0</td>\n",
       "      <td>0</td>\n",
       "      <td>0.080810</td>\n",
       "    </tr>\n",
       "    <tr>\n",
       "      <th>4</th>\n",
       "      <td>Sligo Rovers</td>\n",
       "      <td>Bohemians</td>\n",
       "      <td>1</td>\n",
       "      <td>0</td>\n",
       "      <td>0.230137</td>\n",
       "    </tr>\n",
       "  </tbody>\n",
       "</table>\n",
       "</div>"
      ],
      "text/plain": [
       "          HomeTeam         AwayTeam  FTHG  FTAG   EloDiff\n",
       "0  Shamrock Rovers         Monaghan     3     1  0.082928\n",
       "1     Sligo Rovers        UC Dublin     2     1 -0.064281\n",
       "2        Cork City  Shamrock Rovers     1     1 -0.282976\n",
       "3         Drogheda          Dundalk     0     0  0.080810\n",
       "4     Sligo Rovers        Bohemians     1     0  0.230137"
      ]
     },
     "execution_count": 4,
     "metadata": {},
     "output_type": "execute_result"
    }
   ],
   "source": [
    "league = \"IRL\"\n",
    "try:\n",
    "    df = pd.read_excel(f\"Data/{league}.xlsx\")\n",
    "except:\n",
    "    df = pd.read_csv(f\"Data/{league}.csv\")\n",
    "\n",
    "try:\n",
    "    df = df[[\"HomeTeam\", \"AwayTeam\", \"FTHG\", \"FTAG\"]]\n",
    "except KeyError: # some of the leagues have mismatched names\n",
    "    df.rename(columns={\"HG\": \"FTHG\", \"AG\": \"FTAG\"}, inplace=True)\n",
    "    df.rename(columns={\"Home\": \"HomeTeam\", \"Away\": \"AwayTeam\"}, inplace=True)\n",
    "\n",
    "    df = df[[\"HomeTeam\", \"AwayTeam\", \"FTHG\", \"FTAG\"]]\n",
    "\n",
    "elo_history, elo_ratings = get_elo(df)\n",
    "elo_history = elo_history[10:].reset_index(drop=True)\n",
    "\n",
    "scaler = StandardScaler()\n",
    "elo_history[\"EloDiff\"] = scaler.fit_transform(elo_history[\"EloDiff\"].values.reshape(-1, 1))\n",
    "\n",
    "elo_history.head()"
   ]
  },
  {
   "cell_type": "code",
   "execution_count": 5,
   "id": "c7398fa4",
   "metadata": {},
   "outputs": [
    {
     "data": {
      "text/plain": [
       "array(['Drogheda', 'Derry City', 'St. Patricks', 'UC Dublin', 'Monaghan',\n",
       "       'Shelbourne', 'Bohemians', 'Bray', 'Cork City', 'Dundalk',\n",
       "       'Shamrock Rovers', 'Sligo Rovers', 'Longford', 'Waterford',\n",
       "       'Limerick', 'Mervue', 'Athlone', 'Galway', 'Finn Harps', 'Wexford',\n",
       "       'Cobh Ramblers', 'Cabinteely', 'Treaty United'], dtype=object)"
      ]
     },
     "execution_count": 5,
     "metadata": {},
     "output_type": "execute_result"
    }
   ],
   "source": [
    "teams = pd.unique(df[[\"HomeTeam\", \"AwayTeam\"]].values.ravel(\"K\"))\n",
    "teams"
   ]
  },
  {
   "cell_type": "code",
   "execution_count": 6,
   "id": "858f72dc",
   "metadata": {},
   "outputs": [
    {
     "name": "stdout",
     "output_type": "stream",
     "text": [
      "Drogheda ELO: 1576.80\n",
      "Shamrock Rovers ELO: 1708.71\n"
     ]
    }
   ],
   "source": [
    "home_team = \"Drogheda\"\n",
    "away_team = \"Shamrock Rovers\"\n",
    "\n",
    "home_elo = elo_ratings[home_team]\n",
    "away_elo = elo_ratings[away_team]\n",
    "\n",
    "print(f\"{home_team} ELO: {home_elo:.2f}\")\n",
    "print(f\"{away_team} ELO: {away_elo:.2f}\")"
   ]
  },
  {
   "cell_type": "code",
   "execution_count": 7,
   "id": "c82c8023",
   "metadata": {},
   "outputs": [],
   "source": [
    "# targets: FTHG, FTAG\n",
    "# fixed effects: EloDiff\n",
    "# random effects: HomeTeam, AwayTeam\n",
    "\n",
    "home_model = Lmer(\n",
    "    \"FTHG ~ 1 + EloDiff + (1 + EloDiff | HomeTeam) + (1 + EloDiff | AwayTeam)\",\n",
    "    data=elo_history,\n",
    "    family=\"poisson\",\n",
    ")\n",
    "\n",
    "away_model = Lmer(\n",
    "    \"FTAG ~ 1 + EloDiff + (1 + EloDiff | AwayTeam) + (1 + EloDiff | HomeTeam)\",\n",
    "    data=elo_history,\n",
    "    family=\"poisson\"\n",
    ")"
   ]
  },
  {
   "cell_type": "code",
   "execution_count": 8,
   "id": "9f58a993",
   "metadata": {},
   "outputs": [
    {
     "name": "stdout",
     "output_type": "stream",
     "text": [
      "              FTHG         FTAG       EloDiff\n",
      "count  2465.000000  2465.000000  2.465000e+03\n",
      "mean      1.431237     1.147262 -1.459279e-17\n",
      "std       1.354795     1.113222  1.000203e+00\n",
      "min       0.000000     0.000000 -3.361460e+00\n",
      "25%       0.000000     0.000000 -6.770601e-01\n",
      "50%       1.000000     1.000000  9.323737e-03\n",
      "75%       2.000000     2.000000  6.725055e-01\n",
      "max      10.000000     7.000000  3.360138e+00\n"
     ]
    }
   ],
   "source": [
    "print(elo_history.describe())"
   ]
  },
  {
   "cell_type": "code",
   "execution_count": 9,
   "id": "3d57fb6b",
   "metadata": {},
   "outputs": [
    {
     "data": {
      "text/plain": [
       "Index(['HomeTeam', 'AwayTeam', 'FTHG', 'FTAG', 'EloDiff'], dtype='object')"
      ]
     },
     "execution_count": 9,
     "metadata": {},
     "output_type": "execute_result"
    }
   ],
   "source": [
    "elo_history.columns"
   ]
  },
  {
   "cell_type": "code",
   "execution_count": 10,
   "id": "c12bbf2f",
   "metadata": {},
   "outputs": [
    {
     "name": "stdout",
     "output_type": "stream",
     "text": [
      "boundary (singular) fit: see help('isSingular') \n",
      "\n",
      "Linear mixed model fit by maximum likelihood  ['lmerMod']\n",
      "Formula: FTHG~1+EloDiff+(1+EloDiff|HomeTeam)+(1+EloDiff|AwayTeam)\n",
      "\n",
      "Family: poisson\t Inference: parametric\n",
      "\n",
      "Number of observations: 2465\t Groups: {'HomeTeam': 23.0, 'AwayTeam': 23.0}\n",
      "\n",
      "Log-likelihood: -3690.093 \t AIC: 7396.186\n",
      "\n",
      "Random effects:\n",
      "\n",
      "                 Name    Var    Std\n",
      "HomeTeam  (Intercept)  0.000  0.000\n",
      "HomeTeam      EloDiff  0.000  0.000\n",
      "AwayTeam  (Intercept)  0.012  0.112\n",
      "AwayTeam      EloDiff  0.000  0.017\n",
      "\n",
      "                  IV1      IV2 Corr\n",
      "HomeTeam  (Intercept)  EloDiff     \n",
      "AwayTeam  (Intercept)  EloDiff  1.0\n",
      "\n",
      "Fixed effects:\n",
      "\n"
     ]
    },
    {
     "name": "stderr",
     "output_type": "stream",
     "text": [
      "/home/cormyster/miniconda3/envs/sports/lib/python3.10/site-packages/pymer4/models/Lmer.py:733: FutureWarning: DataFrame.applymap has been deprecated. Use DataFrame.map instead.\n",
      "  ran_vars = ran_vars.applymap(\n",
      "/home/cormyster/miniconda3/envs/sports/lib/python3.10/site-packages/pymer4/models/Lmer.py:744: FutureWarning: DataFrame.applymap has been deprecated. Use DataFrame.map instead.\n",
      "  ran_corrs = ran_corrs.applymap(\n"
     ]
    },
    {
     "name": "stdout",
     "output_type": "stream",
     "text": [
      "Model failed to converge with max|grad| = 0.00779359 (tol = 0.002, component 1) \n",
      "\n",
      "Linear mixed model fit by maximum likelihood  ['lmerMod']\n",
      "Formula: FTAG~1+EloDiff+(1+EloDiff|AwayTeam)+(1+EloDiff|HomeTeam)\n",
      "\n",
      "Family: poisson\t Inference: parametric\n",
      "\n",
      "Number of observations: 2465\t Groups: {'AwayTeam': 23.0, 'HomeTeam': 23.0}\n",
      "\n",
      "Log-likelihood: -3348.480 \t AIC: 6712.960\n",
      "\n",
      "Random effects:\n",
      "\n",
      "                 Name    Var    Std\n",
      "AwayTeam  (Intercept)  0.000  0.002\n",
      "AwayTeam      EloDiff  0.003  0.055\n",
      "HomeTeam  (Intercept)  0.015  0.123\n",
      "HomeTeam      EloDiff  0.002  0.043\n",
      "\n",
      "                  IV1      IV2  Corr\n",
      "AwayTeam  (Intercept)  EloDiff  -1.0\n",
      "HomeTeam  (Intercept)  EloDiff   1.0\n",
      "\n",
      "Fixed effects:\n",
      "\n"
     ]
    },
    {
     "name": "stderr",
     "output_type": "stream",
     "text": [
      "/home/cormyster/miniconda3/envs/sports/lib/python3.10/site-packages/pymer4/models/Lmer.py:733: FutureWarning: DataFrame.applymap has been deprecated. Use DataFrame.map instead.\n",
      "  ran_vars = ran_vars.applymap(\n",
      "/home/cormyster/miniconda3/envs/sports/lib/python3.10/site-packages/pymer4/models/Lmer.py:744: FutureWarning: DataFrame.applymap has been deprecated. Use DataFrame.map instead.\n",
      "  ran_corrs = ran_corrs.applymap(\n"
     ]
    }
   ],
   "source": [
    "home_fit = home_model.fit()\n",
    "away_fit = away_model.fit()"
   ]
  },
  {
   "cell_type": "code",
   "execution_count": 11,
   "id": "6b1c8fc4",
   "metadata": {},
   "outputs": [
    {
     "name": "stdout",
     "output_type": "stream",
     "text": [
      "boundary (singular) fit: see help('isSingular') \n",
      "\n",
      "Linear mixed model fit by maximum likelihood  ['lmerMod']\n",
      "Formula: FTHG~1+EloDiff+(1|HomeTeam)\n",
      "\n",
      "Family: poisson\t Inference: parametric\n",
      "\n",
      "Number of observations: 2465\t Groups: {'HomeTeam': 23.0}\n",
      "\n",
      "Log-likelihood: -3699.701 \t AIC: 7405.402\n",
      "\n",
      "Random effects:\n",
      "\n",
      "                 Name  Var  Std\n",
      "HomeTeam  (Intercept)  0.0  0.0\n",
      "\n",
      "No random effect correlations specified\n",
      "\n",
      "Fixed effects:\n",
      "\n"
     ]
    },
    {
     "name": "stderr",
     "output_type": "stream",
     "text": [
      "/home/cormyster/miniconda3/envs/sports/lib/python3.10/site-packages/pymer4/models/Lmer.py:733: FutureWarning: DataFrame.applymap has been deprecated. Use DataFrame.map instead.\n",
      "  ran_vars = ran_vars.applymap(\n"
     ]
    },
    {
     "name": "stdout",
     "output_type": "stream",
     "text": [
      "boundary (singular) fit: see help('isSingular') \n",
      "\n",
      "Linear mixed model fit by maximum likelihood  ['lmerMod']\n",
      "Formula: FTAG~1+EloDiff+(1|AwayTeam)\n",
      "\n",
      "Family: poisson\t Inference: parametric\n",
      "\n",
      "Number of observations: 2465\t Groups: {'AwayTeam': 23.0}\n",
      "\n",
      "Log-likelihood: -3355.059 \t AIC: 6716.118\n",
      "\n",
      "Random effects:\n",
      "\n",
      "                 Name  Var  Std\n",
      "AwayTeam  (Intercept)  0.0  0.0\n",
      "\n",
      "No random effect correlations specified\n",
      "\n",
      "Fixed effects:\n",
      "\n"
     ]
    },
    {
     "name": "stderr",
     "output_type": "stream",
     "text": [
      "/home/cormyster/miniconda3/envs/sports/lib/python3.10/site-packages/pymer4/models/Lmer.py:733: FutureWarning: DataFrame.applymap has been deprecated. Use DataFrame.map instead.\n",
      "  ran_vars = ran_vars.applymap(\n"
     ]
    }
   ],
   "source": [
    "# Many of the random effects are not significant\n",
    "# Try something simpler\n",
    "\n",
    "home_model_0 = glm(\n",
    "    \"FTHG ~ 1 + EloDiff\",\n",
    "    data=elo_history,\n",
    "    family=sm.families.Poisson()\n",
    ")\n",
    "away_model_0 = glm(\n",
    "    \"FTAG ~ 1 + EloDiff\",\n",
    "    data=elo_history,\n",
    "    family=sm.families.Poisson()\n",
    ")\n",
    "home_fit_0 = home_model_0.fit()\n",
    "away_fit_0 = away_model_0.fit()\n",
    "\n",
    "home_model_2 = Lmer(\n",
    "    \"FTHG ~ 1 + EloDiff + (1 | HomeTeam)\",\n",
    "    data=elo_history,\n",
    "    family=\"poisson\",\n",
    ")\n",
    "\n",
    "away_model_2 = Lmer(\n",
    "    \"FTAG ~ 1 + EloDiff + (1 | AwayTeam)\",\n",
    "    data=elo_history,\n",
    "    family=\"poisson\"\n",
    ")\n",
    "\n",
    "home_fit_2 = home_model_2.fit()\n",
    "away_fit_2 = away_model_2.fit()"
   ]
  },
  {
   "cell_type": "code",
   "execution_count": 12,
   "id": "48f04245",
   "metadata": {},
   "outputs": [
    {
     "name": "stdout",
     "output_type": "stream",
     "text": [
      "boundary (singular) fit: see help('isSingular') \n",
      "\n",
      "Linear mixed model fit by maximum likelihood  ['lmerMod']\n",
      "Formula: FTHG~1+EloDiff+(0+EloDiff|HomeTeam)\n",
      "\n",
      "Family: poisson\t Inference: parametric\n",
      "\n",
      "Number of observations: 2465\t Groups: {'HomeTeam': 23.0}\n",
      "\n",
      "Log-likelihood: -3699.701 \t AIC: 7405.402\n",
      "\n",
      "Random effects:\n",
      "\n",
      "             Name  Var  Std\n",
      "HomeTeam  EloDiff  0.0  0.0\n",
      "\n",
      "No random effect correlations specified\n",
      "\n",
      "Fixed effects:\n",
      "\n"
     ]
    },
    {
     "name": "stderr",
     "output_type": "stream",
     "text": [
      "/home/cormyster/miniconda3/envs/sports/lib/python3.10/site-packages/pymer4/models/Lmer.py:733: FutureWarning: DataFrame.applymap has been deprecated. Use DataFrame.map instead.\n",
      "  ran_vars = ran_vars.applymap(\n"
     ]
    },
    {
     "name": "stdout",
     "output_type": "stream",
     "text": [
      "Linear mixed model fit by maximum likelihood  ['lmerMod']\n",
      "Formula: FTAG~1+EloDiff+(0+EloDiff|AwayTeam)\n",
      "\n",
      "Family: poisson\t Inference: parametric\n",
      "\n",
      "Number of observations: 2465\t Groups: {'AwayTeam': 23.0}\n",
      "\n",
      "Log-likelihood: -3353.771 \t AIC: 6713.543\n",
      "\n",
      "Random effects:\n",
      "\n",
      "             Name    Var   Std\n",
      "AwayTeam  EloDiff  0.003  0.05\n",
      "\n",
      "No random effect correlations specified\n",
      "\n",
      "Fixed effects:\n",
      "\n"
     ]
    },
    {
     "name": "stderr",
     "output_type": "stream",
     "text": [
      "/home/cormyster/miniconda3/envs/sports/lib/python3.10/site-packages/pymer4/models/Lmer.py:733: FutureWarning: DataFrame.applymap has been deprecated. Use DataFrame.map instead.\n",
      "  ran_vars = ran_vars.applymap(\n"
     ]
    }
   ],
   "source": [
    "home_model_3 = Lmer(\n",
    "    \"FTHG ~ 1 + EloDiff + (0 + EloDiff | HomeTeam)\",\n",
    "    data=elo_history,\n",
    "    family=\"poisson\",\n",
    ")\n",
    "\n",
    "away_model_3 = Lmer(\n",
    "    \"FTAG ~ 1 + EloDiff + (0 + EloDiff | AwayTeam)\",\n",
    "    data=elo_history,\n",
    "    family=\"poisson\"\n",
    ")\n",
    "\n",
    "home_fit_3 = home_model_3.fit()\n",
    "away_fit_3 = away_model_3.fit()"
   ]
  },
  {
   "cell_type": "code",
   "execution_count": 13,
   "id": "95e69f64",
   "metadata": {},
   "outputs": [
    {
     "name": "stdout",
     "output_type": "stream",
     "text": [
      "boundary (singular) fit: see help('isSingular') \n",
      "\n",
      "Linear mixed model fit by maximum likelihood  ['lmerMod']\n",
      "Formula: FTHG~1+EloDiff+(1|HomeTeam:AwayTeam)+(1+EloDiff|HomeTeam)+(1+EloDiff|AwayTeam)\n",
      "\n",
      "Family: poisson\t Inference: parametric\n",
      "\n",
      "Number of observations: 2465\t Groups: {'HomeTeam:AwayTeam': 307.0, 'HomeTeam': 23.0, 'AwayTeam': 23.0}\n",
      "\n",
      "Log-likelihood: -3690.093 \t AIC: 7398.186\n",
      "\n",
      "Random effects:\n",
      "\n",
      "                          Name    Var    Std\n",
      "HomeTeam:AwayTeam  (Intercept)  0.000  0.000\n",
      "HomeTeam           (Intercept)  0.000  0.000\n",
      "HomeTeam               EloDiff  0.000  0.000\n",
      "AwayTeam           (Intercept)  0.012  0.112\n",
      "AwayTeam               EloDiff  0.000  0.017\n",
      "\n",
      "                  IV1      IV2 Corr\n",
      "HomeTeam  (Intercept)  EloDiff     \n",
      "AwayTeam  (Intercept)  EloDiff  1.0\n",
      "\n",
      "Fixed effects:\n",
      "\n"
     ]
    },
    {
     "name": "stderr",
     "output_type": "stream",
     "text": [
      "/home/cormyster/miniconda3/envs/sports/lib/python3.10/site-packages/pymer4/models/Lmer.py:733: FutureWarning: DataFrame.applymap has been deprecated. Use DataFrame.map instead.\n",
      "  ran_vars = ran_vars.applymap(\n",
      "/home/cormyster/miniconda3/envs/sports/lib/python3.10/site-packages/pymer4/models/Lmer.py:744: FutureWarning: DataFrame.applymap has been deprecated. Use DataFrame.map instead.\n",
      "  ran_corrs = ran_corrs.applymap(\n"
     ]
    },
    {
     "name": "stdout",
     "output_type": "stream",
     "text": [
      "boundary (singular) fit: see help('isSingular') \n",
      "\n",
      "Linear mixed model fit by maximum likelihood  ['lmerMod']\n",
      "Formula: FTAG~1+EloDiff+(1|HomeTeam:AwayTeam)+(1+EloDiff|AwayTeam)+(1+EloDiff|HomeTeam)\n",
      "\n",
      "Family: poisson\t Inference: parametric\n",
      "\n",
      "Number of observations: 2465\t Groups: {'HomeTeam:AwayTeam': 307.0, 'AwayTeam': 23.0, 'HomeTeam': 23.0}\n",
      "\n",
      "Log-likelihood: -3348.445 \t AIC: 6714.890\n",
      "\n",
      "Random effects:\n",
      "\n",
      "                          Name    Var    Std\n",
      "HomeTeam:AwayTeam  (Intercept)  0.002  0.045\n",
      "AwayTeam           (Intercept)  0.000  0.000\n",
      "AwayTeam               EloDiff  0.003  0.056\n",
      "HomeTeam           (Intercept)  0.015  0.122\n",
      "HomeTeam               EloDiff  0.002  0.043\n",
      "\n",
      "                  IV1      IV2 Corr\n",
      "AwayTeam  (Intercept)  EloDiff     \n",
      "HomeTeam  (Intercept)  EloDiff  1.0\n",
      "\n",
      "Fixed effects:\n",
      "\n"
     ]
    },
    {
     "name": "stderr",
     "output_type": "stream",
     "text": [
      "/home/cormyster/miniconda3/envs/sports/lib/python3.10/site-packages/pymer4/models/Lmer.py:733: FutureWarning: DataFrame.applymap has been deprecated. Use DataFrame.map instead.\n",
      "  ran_vars = ran_vars.applymap(\n",
      "/home/cormyster/miniconda3/envs/sports/lib/python3.10/site-packages/pymer4/models/Lmer.py:744: FutureWarning: DataFrame.applymap has been deprecated. Use DataFrame.map instead.\n",
      "  ran_corrs = ran_corrs.applymap(\n"
     ]
    }
   ],
   "source": [
    "home_model_4 = Lmer(\n",
    "    \"FTHG ~ 1 + EloDiff + (1 | HomeTeam:AwayTeam) + (1 + EloDiff | HomeTeam) + (1 + EloDiff | AwayTeam)\",\n",
    "    data=elo_history,\n",
    "    family=\"poisson\",\n",
    ")\n",
    "\n",
    "away_model_4 = Lmer(\n",
    "    \"FTAG ~ 1 + EloDiff + (1 | HomeTeam:AwayTeam) + (1 + EloDiff | AwayTeam) + (1 + EloDiff | HomeTeam)\",\n",
    "    data=elo_history,\n",
    "    family=\"poisson\"\n",
    ")\n",
    "\n",
    "home_fit_4 = home_model_4.fit()\n",
    "away_fit_4 = away_model_4.fit()"
   ]
  },
  {
   "cell_type": "code",
   "execution_count": 20,
   "id": "c316e315",
   "metadata": {},
   "outputs": [
    {
     "data": {
      "text/plain": [
       "np.float64(7403.401716008719)"
      ]
     },
     "execution_count": 20,
     "metadata": {},
     "output_type": "execute_result"
    }
   ],
   "source": [
    "home_fit_0.aic"
   ]
  },
  {
   "cell_type": "code",
   "execution_count": 22,
   "id": "b691e9b1",
   "metadata": {},
   "outputs": [
    {
     "name": "stdout",
     "output_type": "stream",
     "text": [
      "Home Model 0 AIC: 7403.40\n",
      "Away Model 0 AIC: 6714.12\n",
      "\n",
      "Home Model 1 AIC: 7396.19\n",
      "Away Model 1 AIC: 6712.96\n",
      "\n",
      "Home Model 2 AIC: 7405.40\n",
      "Away Model 2 AIC: 6716.12\n",
      "\n",
      "Home Model 3 AIC: 7405.40\n",
      "Away Model 3 AIC: 6713.54\n",
      "\n",
      "Home Model 4 AIC: 7398.19\n",
      "Away Model 4 AIC: 6714.89\n"
     ]
    }
   ],
   "source": [
    "# compare AIC values\n",
    "print(f\"Home Model 0 AIC: {home_fit_0.aic:.2f}\")\n",
    "print(f\"Away Model 0 AIC: {away_fit_0.aic:.2f}\")\n",
    "\n",
    "print(f\"\\nHome Model 1 AIC: {home_model.AIC:.2f}\")\n",
    "print(f\"Away Model 1 AIC: {away_model.AIC:.2f}\")\n",
    "\n",
    "print(f\"\\nHome Model 2 AIC: {home_model_2.AIC:.2f}\")\n",
    "print(f\"Away Model 2 AIC: {away_model_2.AIC:.2f}\")\n",
    "\n",
    "print(f\"\\nHome Model 3 AIC: {home_model_3.AIC:.2f}\")\n",
    "print(f\"Away Model 3 AIC: {away_model_3.AIC:.2f}\")\n",
    "\n",
    "print(f\"\\nHome Model 4 AIC: {home_model_4.AIC:.2f}\")\n",
    "print(f\"Away Model 4 AIC: {away_model_4.AIC:.2f}\")\n"
   ]
  },
  {
   "cell_type": "code",
   "execution_count": 23,
   "id": "4e3fea56",
   "metadata": {},
   "outputs": [
    {
     "name": "stdout",
     "output_type": "stream",
     "text": [
      "Linear mixed model fit by maximum likelihood  ['lmerMod']\n",
      "Formula: FTHG~1+EloDiff+(1+EloDiff|HomeTeam)+(1+EloDiff|AwayTeam)\n",
      "\n",
      "Family: poisson\t Inference: parametric\n",
      "\n",
      "Number of observations: 2465\t Groups: {'HomeTeam': 23.0, 'AwayTeam': 23.0}\n",
      "\n",
      "Log-likelihood: -3690.093 \t AIC: 7396.186\n",
      "\n",
      "Random effects:\n",
      "\n",
      "                 Name    Var    Std\n",
      "HomeTeam  (Intercept)  0.000  0.000\n",
      "HomeTeam      EloDiff  0.000  0.000\n",
      "AwayTeam  (Intercept)  0.012  0.112\n",
      "AwayTeam      EloDiff  0.000  0.017\n",
      "\n",
      "                  IV1      IV2 Corr\n",
      "HomeTeam  (Intercept)  EloDiff     \n",
      "AwayTeam  (Intercept)  EloDiff  1.0\n",
      "\n",
      "Fixed effects:\n",
      "\n"
     ]
    },
    {
     "data": {
      "text/html": [
       "<div>\n",
       "<style scoped>\n",
       "    .dataframe tbody tr th:only-of-type {\n",
       "        vertical-align: middle;\n",
       "    }\n",
       "\n",
       "    .dataframe tbody tr th {\n",
       "        vertical-align: top;\n",
       "    }\n",
       "\n",
       "    .dataframe thead th {\n",
       "        text-align: right;\n",
       "    }\n",
       "</style>\n",
       "<table border=\"1\" class=\"dataframe\">\n",
       "  <thead>\n",
       "    <tr style=\"text-align: right;\">\n",
       "      <th></th>\n",
       "      <th>Estimate</th>\n",
       "      <th>2.5_ci</th>\n",
       "      <th>97.5_ci</th>\n",
       "      <th>SE</th>\n",
       "      <th>Z-stat</th>\n",
       "      <th>P-val</th>\n",
       "      <th>Sig</th>\n",
       "    </tr>\n",
       "  </thead>\n",
       "  <tbody>\n",
       "    <tr>\n",
       "      <th>(Intercept)</th>\n",
       "      <td>0.315</td>\n",
       "      <td>0.247</td>\n",
       "      <td>0.382</td>\n",
       "      <td>0.034</td>\n",
       "      <td>9.156</td>\n",
       "      <td>0.0</td>\n",
       "      <td>***</td>\n",
       "    </tr>\n",
       "    <tr>\n",
       "      <th>EloDiff</th>\n",
       "      <td>0.333</td>\n",
       "      <td>0.294</td>\n",
       "      <td>0.373</td>\n",
       "      <td>0.020</td>\n",
       "      <td>16.553</td>\n",
       "      <td>0.0</td>\n",
       "      <td>***</td>\n",
       "    </tr>\n",
       "  </tbody>\n",
       "</table>\n",
       "</div>"
      ],
      "text/plain": [
       "             Estimate  2.5_ci  97.5_ci     SE  Z-stat  P-val  Sig\n",
       "(Intercept)     0.315   0.247    0.382  0.034   9.156    0.0  ***\n",
       "EloDiff         0.333   0.294    0.373  0.020  16.553    0.0  ***"
      ]
     },
     "execution_count": 23,
     "metadata": {},
     "output_type": "execute_result"
    }
   ],
   "source": [
    "# We actually prefer the more complex model with random intercept and slope\n",
    "home_model.summary()"
   ]
  },
  {
   "cell_type": "code",
   "execution_count": 24,
   "id": "8225e637",
   "metadata": {},
   "outputs": [
    {
     "name": "stdout",
     "output_type": "stream",
     "text": [
      "Linear mixed model fit by maximum likelihood  ['lmerMod']\n",
      "Formula: FTAG~1+EloDiff+(1+EloDiff|AwayTeam)+(1+EloDiff|HomeTeam)\n",
      "\n",
      "Family: poisson\t Inference: parametric\n",
      "\n",
      "Number of observations: 2465\t Groups: {'AwayTeam': 23.0, 'HomeTeam': 23.0}\n",
      "\n",
      "Log-likelihood: -3348.480 \t AIC: 6712.960\n",
      "\n",
      "Random effects:\n",
      "\n",
      "                 Name    Var    Std\n",
      "AwayTeam  (Intercept)  0.000  0.002\n",
      "AwayTeam      EloDiff  0.003  0.055\n",
      "HomeTeam  (Intercept)  0.015  0.123\n",
      "HomeTeam      EloDiff  0.002  0.043\n",
      "\n",
      "                  IV1      IV2  Corr\n",
      "AwayTeam  (Intercept)  EloDiff  -1.0\n",
      "HomeTeam  (Intercept)  EloDiff   1.0\n",
      "\n",
      "Fixed effects:\n",
      "\n"
     ]
    },
    {
     "data": {
      "text/html": [
       "<div>\n",
       "<style scoped>\n",
       "    .dataframe tbody tr th:only-of-type {\n",
       "        vertical-align: middle;\n",
       "    }\n",
       "\n",
       "    .dataframe tbody tr th {\n",
       "        vertical-align: top;\n",
       "    }\n",
       "\n",
       "    .dataframe thead th {\n",
       "        text-align: right;\n",
       "    }\n",
       "</style>\n",
       "<table border=\"1\" class=\"dataframe\">\n",
       "  <thead>\n",
       "    <tr style=\"text-align: right;\">\n",
       "      <th></th>\n",
       "      <th>Estimate</th>\n",
       "      <th>2.5_ci</th>\n",
       "      <th>97.5_ci</th>\n",
       "      <th>SE</th>\n",
       "      <th>Z-stat</th>\n",
       "      <th>P-val</th>\n",
       "      <th>Sig</th>\n",
       "    </tr>\n",
       "  </thead>\n",
       "  <tbody>\n",
       "    <tr>\n",
       "      <th>(Intercept)</th>\n",
       "      <td>0.141</td>\n",
       "      <td>0.065</td>\n",
       "      <td>0.217</td>\n",
       "      <td>0.039</td>\n",
       "      <td>3.636</td>\n",
       "      <td>0.0</td>\n",
       "      <td>***</td>\n",
       "    </tr>\n",
       "    <tr>\n",
       "      <th>EloDiff</th>\n",
       "      <td>-0.225</td>\n",
       "      <td>-0.287</td>\n",
       "      <td>-0.162</td>\n",
       "      <td>0.032</td>\n",
       "      <td>-6.996</td>\n",
       "      <td>0.0</td>\n",
       "      <td>***</td>\n",
       "    </tr>\n",
       "  </tbody>\n",
       "</table>\n",
       "</div>"
      ],
      "text/plain": [
       "             Estimate  2.5_ci  97.5_ci     SE  Z-stat  P-val  Sig\n",
       "(Intercept)     0.141   0.065    0.217  0.039   3.636    0.0  ***\n",
       "EloDiff        -0.225  -0.287   -0.162  0.032  -6.996    0.0  ***"
      ]
     },
     "execution_count": 24,
     "metadata": {},
     "output_type": "execute_result"
    }
   ],
   "source": [
    "away_model.summary()"
   ]
  },
  {
   "cell_type": "code",
   "execution_count": null,
   "id": "82985984",
   "metadata": {},
   "outputs": [],
   "source": []
  }
 ],
 "metadata": {
  "kernelspec": {
   "display_name": "sports",
   "language": "python",
   "name": "python3"
  },
  "language_info": {
   "codemirror_mode": {
    "name": "ipython",
    "version": 3
   },
   "file_extension": ".py",
   "mimetype": "text/x-python",
   "name": "python",
   "nbconvert_exporter": "python",
   "pygments_lexer": "ipython3",
   "version": "3.10.18"
  }
 },
 "nbformat": 4,
 "nbformat_minor": 5
}
