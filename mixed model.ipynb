{
 "cells": [
  {
   "cell_type": "code",
   "execution_count": 1,
   "id": "3a06167c",
   "metadata": {},
   "outputs": [],
   "source": [
    "import pandas as pd\n",
    "import numpy as np\n",
    "import os\n",
    "import bambi as bmb\n",
    "from win_draw_loss import get_elo"
   ]
  },
  {
   "cell_type": "code",
   "execution_count": 2,
   "id": "afe5df4e",
   "metadata": {},
   "outputs": [
    {
     "name": "stdout",
     "output_type": "stream",
     "text": [
      "Available data: ARG, AUT, B1, BRA, CHN, D1, D2, DNK, E0, E1, E2, E3, EC, F1, F2, FIN, G1, I1, I2, IRL, JPN, MEX, N1, NOR, P1, POL, ROU, RUS, SC0, SC1, SC2, SC3, SP1, SP2, SWE, SWZ, T1, USA\n"
     ]
    }
   ],
   "source": [
    "leagues = []\n",
    "for file in os.listdir(\"Data\"):\n",
    "    if file.endswith(\".xlsx\") or file.endswith(\".csv\"):\n",
    "        leagues.append(file.split(\".\")[0])\n",
    "print(f\"Available data: {', '.join(leagues)}\")"
   ]
  },
  {
   "cell_type": "code",
   "execution_count": 3,
   "id": "28349ece",
   "metadata": {},
   "outputs": [
    {
     "data": {
      "text/html": [
       "<div>\n",
       "<style scoped>\n",
       "    .dataframe tbody tr th:only-of-type {\n",
       "        vertical-align: middle;\n",
       "    }\n",
       "\n",
       "    .dataframe tbody tr th {\n",
       "        vertical-align: top;\n",
       "    }\n",
       "\n",
       "    .dataframe thead th {\n",
       "        text-align: right;\n",
       "    }\n",
       "</style>\n",
       "<table border=\"1\" class=\"dataframe\">\n",
       "  <thead>\n",
       "    <tr style=\"text-align: right;\">\n",
       "      <th></th>\n",
       "      <th>HomeTeam</th>\n",
       "      <th>AwayTeam</th>\n",
       "      <th>FTHG</th>\n",
       "      <th>FTAG</th>\n",
       "      <th>EloDiff</th>\n",
       "    </tr>\n",
       "  </thead>\n",
       "  <tbody>\n",
       "    <tr>\n",
       "      <th>0</th>\n",
       "      <td>Brighton</td>\n",
       "      <td>Man United</td>\n",
       "      <td>2</td>\n",
       "      <td>1</td>\n",
       "      <td>0.0</td>\n",
       "    </tr>\n",
       "    <tr>\n",
       "      <th>1</th>\n",
       "      <td>Crystal Palace</td>\n",
       "      <td>West Ham</td>\n",
       "      <td>0</td>\n",
       "      <td>2</td>\n",
       "      <td>0.0</td>\n",
       "    </tr>\n",
       "    <tr>\n",
       "      <th>2</th>\n",
       "      <td>Fulham</td>\n",
       "      <td>Leicester</td>\n",
       "      <td>2</td>\n",
       "      <td>1</td>\n",
       "      <td>-10.0</td>\n",
       "    </tr>\n",
       "    <tr>\n",
       "      <th>3</th>\n",
       "      <td>Man City</td>\n",
       "      <td>Ipswich</td>\n",
       "      <td>4</td>\n",
       "      <td>1</td>\n",
       "      <td>20.0</td>\n",
       "    </tr>\n",
       "    <tr>\n",
       "      <th>4</th>\n",
       "      <td>Southampton</td>\n",
       "      <td>Nott'm Forest</td>\n",
       "      <td>0</td>\n",
       "      <td>1</td>\n",
       "      <td>-10.0</td>\n",
       "    </tr>\n",
       "  </tbody>\n",
       "</table>\n",
       "</div>"
      ],
      "text/plain": [
       "         HomeTeam       AwayTeam  FTHG  FTAG  EloDiff\n",
       "0        Brighton     Man United     2     1      0.0\n",
       "1  Crystal Palace       West Ham     0     2      0.0\n",
       "2          Fulham      Leicester     2     1    -10.0\n",
       "3        Man City        Ipswich     4     1     20.0\n",
       "4     Southampton  Nott'm Forest     0     1    -10.0"
      ]
     },
     "execution_count": 3,
     "metadata": {},
     "output_type": "execute_result"
    }
   ],
   "source": [
    "league = \"E0\"\n",
    "try:\n",
    "    df = pd.read_excel(f\"Data/{league}.xlsx\")\n",
    "except:\n",
    "    df = pd.read_csv(f\"Data/{league}.csv\")\n",
    "\n",
    "try:\n",
    "    df = df[[\"HomeTeam\", \"AwayTeam\", \"FTHG\", \"FTAG\"]]\n",
    "except KeyError: # some of the leagues have mismatched names\n",
    "    df.rename(columns={\"HG\": \"FTHG\", \"AG\": \"FTAG\"}, inplace=True)\n",
    "    df.rename(columns={\"Home\": \"HomeTeam\", \"Away\": \"AwayTeam\"}, inplace=True)\n",
    "\n",
    "    df = df[[\"HomeTeam\", \"AwayTeam\", \"FTHG\", \"FTAG\"]]\n",
    "\n",
    "elo_history, elo_ratings = get_elo(df)\n",
    "elo_history = elo_history[10:].reset_index(drop=True)\n",
    "\n",
    "elo_history.head()"
   ]
  },
  {
   "cell_type": "code",
   "execution_count": 4,
   "id": "c7398fa4",
   "metadata": {},
   "outputs": [
    {
     "data": {
      "text/plain": [
       "array(['Man United', 'Ipswich', 'Arsenal', 'Everton', 'Newcastle',\n",
       "       \"Nott'm Forest\", 'West Ham', 'Brentford', 'Chelsea', 'Leicester',\n",
       "       'Brighton', 'Crystal Palace', 'Fulham', 'Man City', 'Southampton',\n",
       "       'Tottenham', 'Aston Villa', 'Bournemouth', 'Wolves', 'Liverpool'],\n",
       "      dtype=object)"
      ]
     },
     "execution_count": 4,
     "metadata": {},
     "output_type": "execute_result"
    }
   ],
   "source": [
    "teams = pd.unique(df[[\"HomeTeam\", \"AwayTeam\"]].values.ravel(\"K\"))\n",
    "teams"
   ]
  },
  {
   "cell_type": "code",
   "execution_count": 5,
   "id": "858f72dc",
   "metadata": {},
   "outputs": [
    {
     "name": "stdout",
     "output_type": "stream",
     "text": [
      "Man City ELO: 1583.53\n",
      "Wolves ELO: 1467.14\n"
     ]
    }
   ],
   "source": [
    "home_team = \"Man City\"\n",
    "away_team = \"Wolves\"\n",
    "\n",
    "home_elo = elo_ratings[home_team]\n",
    "away_elo = elo_ratings[away_team]\n",
    "\n",
    "print(f\"{home_team} ELO: {home_elo:.2f}\")\n",
    "print(f\"{away_team} ELO: {away_elo:.2f}\")"
   ]
  },
  {
   "cell_type": "code",
   "execution_count": 6,
   "id": "c82c8023",
   "metadata": {},
   "outputs": [],
   "source": [
    "# targets: FTHG, FTAG\n",
    "# fixed effects: EloDiff\n",
    "# random effects: HomeTeam, AwayTeam\n",
    "\n",
    "home_model = bmb.Model(\n",
    "    \"FTHG ~ 1 + EloDiff + (1 | HomeTeam) + (1 | AwayTeam)\",\n",
    "    data=elo_history,\n",
    "    family=\"poisson\",\n",
    ")\n",
    "\n",
    "away_model = bmb.Model(\n",
    "    \"FTAG ~ 1 + EloDiff + (1 | HomeTeam) + (1 | AwayTeam)\",\n",
    "    data=elo_history,\n",
    "    family=\"poisson\"\n",
    ")"
   ]
  },
  {
   "cell_type": "code",
   "execution_count": 7,
   "id": "3d57fb6b",
   "metadata": {},
   "outputs": [
    {
     "data": {
      "text/plain": [
       "Index(['HomeTeam', 'AwayTeam', 'FTHG', 'FTAG', 'EloDiff'], dtype='object')"
      ]
     },
     "execution_count": 7,
     "metadata": {},
     "output_type": "execute_result"
    }
   ],
   "source": [
    "elo_history.columns"
   ]
  },
  {
   "cell_type": "code",
   "execution_count": 8,
   "id": "c12bbf2f",
   "metadata": {},
   "outputs": [
    {
     "name": "stderr",
     "output_type": "stream",
     "text": [
      "Initializing NUTS using jitter+adapt_diag...\n",
      "c:\\Users\\cormy\\anaconda3\\Lib\\site-packages\\pytensor\\link\\c\\cmodule.py:2968: UserWarning: PyTensor could not link to a BLAS installation. Operations that might benefit from BLAS will be severely degraded.\n",
      "This usually happens when PyTensor is installed via pip. We recommend it be installed via conda/mamba/pixi instead.\n",
      "Alternatively, you can use an experimental backend such as Numba or JAX that perform their own BLAS optimizations, by setting `pytensor.config.mode == 'NUMBA'` or passing `mode='NUMBA'` when compiling a PyTensor function.\n",
      "For more options and details see https://pytensor.readthedocs.io/en/latest/troubleshooting.html#how-do-i-configure-test-my-blas-library\n",
      "  warnings.warn(\n",
      "WARNING (pytensor.tensor.blas): Using NumPy C-API based implementation for BLAS functions.\n"
     ]
    },
    {
     "ename": "KeyboardInterrupt",
     "evalue": "",
     "output_type": "error",
     "traceback": [
      "\u001b[1;31m---------------------------------------------------------------------------\u001b[0m",
      "\u001b[1;31mKeyboardInterrupt\u001b[0m                         Traceback (most recent call last)",
      "Cell \u001b[1;32mIn[8], line 1\u001b[0m\n\u001b[1;32m----> 1\u001b[0m home_model\u001b[38;5;241m.\u001b[39mfit()\n",
      "File \u001b[1;32mc:\\Users\\cormy\\anaconda3\\Lib\\site-packages\\bambi\\models.py:348\u001b[0m, in \u001b[0;36mModel.fit\u001b[1;34m(self, draws, tune, discard_tuned_samples, omit_offsets, include_mean, include_response_params, inference_method, init, n_init, chains, cores, random_seed, **kwargs)\u001b[0m\n\u001b[0;32m    341\u001b[0m     warnings\u001b[38;5;241m.\u001b[39mwarn(\n\u001b[0;32m    342\u001b[0m         \u001b[38;5;124m\"\u001b[39m\u001b[38;5;124m'\u001b[39m\u001b[38;5;124minclude_mean\u001b[39m\u001b[38;5;124m'\u001b[39m\u001b[38;5;124m has been replaced by \u001b[39m\u001b[38;5;124m'\u001b[39m\u001b[38;5;124minclude_response_params\u001b[39m\u001b[38;5;124m'\u001b[39m\u001b[38;5;124m and \u001b[39m\u001b[38;5;124m\"\u001b[39m\n\u001b[0;32m    343\u001b[0m         \u001b[38;5;124m\"\u001b[39m\u001b[38;5;124mis not going to work in the future\u001b[39m\u001b[38;5;124m\"\u001b[39m,\n\u001b[0;32m    344\u001b[0m         \u001b[38;5;167;01mFutureWarning\u001b[39;00m,\n\u001b[0;32m    345\u001b[0m     )\n\u001b[0;32m    346\u001b[0m     include_response_params \u001b[38;5;241m=\u001b[39m include_mean\n\u001b[1;32m--> 348\u001b[0m \u001b[38;5;28;01mreturn\u001b[39;00m \u001b[38;5;28mself\u001b[39m\u001b[38;5;241m.\u001b[39mbackend\u001b[38;5;241m.\u001b[39mrun(\n\u001b[0;32m    349\u001b[0m     draws\u001b[38;5;241m=\u001b[39mdraws,\n\u001b[0;32m    350\u001b[0m     tune\u001b[38;5;241m=\u001b[39mtune,\n\u001b[0;32m    351\u001b[0m     discard_tuned_samples\u001b[38;5;241m=\u001b[39mdiscard_tuned_samples,\n\u001b[0;32m    352\u001b[0m     omit_offsets\u001b[38;5;241m=\u001b[39momit_offsets,\n\u001b[0;32m    353\u001b[0m     include_response_params\u001b[38;5;241m=\u001b[39minclude_response_params,\n\u001b[0;32m    354\u001b[0m     inference_method\u001b[38;5;241m=\u001b[39minference_method,\n\u001b[0;32m    355\u001b[0m     init\u001b[38;5;241m=\u001b[39minit,\n\u001b[0;32m    356\u001b[0m     n_init\u001b[38;5;241m=\u001b[39mn_init,\n\u001b[0;32m    357\u001b[0m     chains\u001b[38;5;241m=\u001b[39mchains,\n\u001b[0;32m    358\u001b[0m     cores\u001b[38;5;241m=\u001b[39mcores,\n\u001b[0;32m    359\u001b[0m     random_seed\u001b[38;5;241m=\u001b[39mrandom_seed,\n\u001b[0;32m    360\u001b[0m     \u001b[38;5;241m*\u001b[39m\u001b[38;5;241m*\u001b[39mkwargs,\n\u001b[0;32m    361\u001b[0m )\n",
      "File \u001b[1;32mc:\\Users\\cormy\\anaconda3\\Lib\\site-packages\\bambi\\backend\\pymc.py:136\u001b[0m, in \u001b[0;36mPyMCModel.run\u001b[1;34m(self, draws, tune, discard_tuned_samples, omit_offsets, include_response_params, inference_method, init, n_init, chains, cores, random_seed, **kwargs)\u001b[0m\n\u001b[0;32m    134\u001b[0m \u001b[38;5;66;03m# NOTE: Methods return different types of objects (idata, approximation, and dictionary)\u001b[39;00m\n\u001b[0;32m    135\u001b[0m \u001b[38;5;28;01mif\u001b[39;00m inference_method \u001b[38;5;129;01min\u001b[39;00m (\u001b[38;5;28mself\u001b[39m\u001b[38;5;241m.\u001b[39mpymc_methods[\u001b[38;5;124m\"\u001b[39m\u001b[38;5;124mmcmc\u001b[39m\u001b[38;5;124m\"\u001b[39m] \u001b[38;5;241m+\u001b[39m \u001b[38;5;28mself\u001b[39m\u001b[38;5;241m.\u001b[39mbayeux_methods[\u001b[38;5;124m\"\u001b[39m\u001b[38;5;124mmcmc\u001b[39m\u001b[38;5;124m\"\u001b[39m]):\n\u001b[1;32m--> 136\u001b[0m     result \u001b[38;5;241m=\u001b[39m \u001b[38;5;28mself\u001b[39m\u001b[38;5;241m.\u001b[39m_run_mcmc(\n\u001b[0;32m    137\u001b[0m         draws,\n\u001b[0;32m    138\u001b[0m         tune,\n\u001b[0;32m    139\u001b[0m         discard_tuned_samples,\n\u001b[0;32m    140\u001b[0m         omit_offsets,\n\u001b[0;32m    141\u001b[0m         include_response_params,\n\u001b[0;32m    142\u001b[0m         init,\n\u001b[0;32m    143\u001b[0m         n_init,\n\u001b[0;32m    144\u001b[0m         chains,\n\u001b[0;32m    145\u001b[0m         cores,\n\u001b[0;32m    146\u001b[0m         random_seed,\n\u001b[0;32m    147\u001b[0m         inference_method,\n\u001b[0;32m    148\u001b[0m         \u001b[38;5;241m*\u001b[39m\u001b[38;5;241m*\u001b[39mkwargs,\n\u001b[0;32m    149\u001b[0m     )\n\u001b[0;32m    150\u001b[0m \u001b[38;5;28;01melif\u001b[39;00m inference_method \u001b[38;5;129;01min\u001b[39;00m \u001b[38;5;28mself\u001b[39m\u001b[38;5;241m.\u001b[39mpymc_methods[\u001b[38;5;124m\"\u001b[39m\u001b[38;5;124mvi\u001b[39m\u001b[38;5;124m\"\u001b[39m]:\n\u001b[0;32m    151\u001b[0m     result \u001b[38;5;241m=\u001b[39m \u001b[38;5;28mself\u001b[39m\u001b[38;5;241m.\u001b[39m_run_vi(\u001b[38;5;241m*\u001b[39m\u001b[38;5;241m*\u001b[39mkwargs)\n",
      "File \u001b[1;32mc:\\Users\\cormy\\anaconda3\\Lib\\site-packages\\bambi\\backend\\pymc.py:214\u001b[0m, in \u001b[0;36mPyMCModel._run_mcmc\u001b[1;34m(self, draws, tune, discard_tuned_samples, omit_offsets, include_response_params, init, n_init, chains, cores, random_seed, sampler_backend, **kwargs)\u001b[0m\n\u001b[0;32m    212\u001b[0m \u001b[38;5;28;01mwith\u001b[39;00m \u001b[38;5;28mself\u001b[39m\u001b[38;5;241m.\u001b[39mmodel:\n\u001b[0;32m    213\u001b[0m     \u001b[38;5;28;01mtry\u001b[39;00m:\n\u001b[1;32m--> 214\u001b[0m         idata \u001b[38;5;241m=\u001b[39m pm\u001b[38;5;241m.\u001b[39msample(\n\u001b[0;32m    215\u001b[0m             draws\u001b[38;5;241m=\u001b[39mdraws,\n\u001b[0;32m    216\u001b[0m             tune\u001b[38;5;241m=\u001b[39mtune,\n\u001b[0;32m    217\u001b[0m             discard_tuned_samples\u001b[38;5;241m=\u001b[39mdiscard_tuned_samples,\n\u001b[0;32m    218\u001b[0m             init\u001b[38;5;241m=\u001b[39minit,\n\u001b[0;32m    219\u001b[0m             n_init\u001b[38;5;241m=\u001b[39mn_init,\n\u001b[0;32m    220\u001b[0m             chains\u001b[38;5;241m=\u001b[39mchains,\n\u001b[0;32m    221\u001b[0m             cores\u001b[38;5;241m=\u001b[39mcores,\n\u001b[0;32m    222\u001b[0m             random_seed\u001b[38;5;241m=\u001b[39mrandom_seed,\n\u001b[0;32m    223\u001b[0m             var_names\u001b[38;5;241m=\u001b[39mvars_to_sample,\n\u001b[0;32m    224\u001b[0m             \u001b[38;5;241m*\u001b[39m\u001b[38;5;241m*\u001b[39mkwargs,\n\u001b[0;32m    225\u001b[0m         )\n\u001b[0;32m    226\u001b[0m     \u001b[38;5;28;01mexcept\u001b[39;00m (\u001b[38;5;167;01mRuntimeError\u001b[39;00m, \u001b[38;5;167;01mValueError\u001b[39;00m):\n\u001b[0;32m    227\u001b[0m         \u001b[38;5;28;01mif\u001b[39;00m (\n\u001b[0;32m    228\u001b[0m             \u001b[38;5;124m\"\u001b[39m\u001b[38;5;124mValueError: Mass matrix contains\u001b[39m\u001b[38;5;124m\"\u001b[39m \u001b[38;5;129;01min\u001b[39;00m traceback\u001b[38;5;241m.\u001b[39mformat_exc()\n\u001b[0;32m    229\u001b[0m             \u001b[38;5;129;01mand\u001b[39;00m init \u001b[38;5;241m==\u001b[39m \u001b[38;5;124m\"\u001b[39m\u001b[38;5;124mauto\u001b[39m\u001b[38;5;124m\"\u001b[39m\n\u001b[0;32m    230\u001b[0m         ):\n",
      "File \u001b[1;32mc:\\Users\\cormy\\anaconda3\\Lib\\site-packages\\pymc\\sampling\\mcmc.py:832\u001b[0m, in \u001b[0;36msample\u001b[1;34m(draws, tune, chains, cores, random_seed, progressbar, progressbar_theme, step, var_names, nuts_sampler, initvals, init, jitter_max_retries, n_init, trace, discard_tuned_samples, compute_convergence_checks, keep_warning_stat, return_inferencedata, idata_kwargs, nuts_sampler_kwargs, callback, mp_ctx, blas_cores, model, compile_kwargs, **kwargs)\u001b[0m\n\u001b[0;32m    830\u001b[0m         [kwargs\u001b[38;5;241m.\u001b[39msetdefault(k, v) \u001b[38;5;28;01mfor\u001b[39;00m k, v \u001b[38;5;129;01min\u001b[39;00m nuts_kwargs\u001b[38;5;241m.\u001b[39mitems()]\n\u001b[0;32m    831\u001b[0m     \u001b[38;5;28;01mwith\u001b[39;00m joined_blas_limiter():\n\u001b[1;32m--> 832\u001b[0m         initial_points, step \u001b[38;5;241m=\u001b[39m init_nuts(\n\u001b[0;32m    833\u001b[0m             init\u001b[38;5;241m=\u001b[39minit,\n\u001b[0;32m    834\u001b[0m             chains\u001b[38;5;241m=\u001b[39mchains,\n\u001b[0;32m    835\u001b[0m             n_init\u001b[38;5;241m=\u001b[39mn_init,\n\u001b[0;32m    836\u001b[0m             model\u001b[38;5;241m=\u001b[39mmodel,\n\u001b[0;32m    837\u001b[0m             random_seed\u001b[38;5;241m=\u001b[39mrandom_seed_list,\n\u001b[0;32m    838\u001b[0m             progressbar\u001b[38;5;241m=\u001b[39mprogress_bool,\n\u001b[0;32m    839\u001b[0m             jitter_max_retries\u001b[38;5;241m=\u001b[39mjitter_max_retries,\n\u001b[0;32m    840\u001b[0m             tune\u001b[38;5;241m=\u001b[39mtune,\n\u001b[0;32m    841\u001b[0m             initvals\u001b[38;5;241m=\u001b[39minitvals,\n\u001b[0;32m    842\u001b[0m             compile_kwargs\u001b[38;5;241m=\u001b[39mcompile_kwargs,\n\u001b[0;32m    843\u001b[0m             \u001b[38;5;241m*\u001b[39m\u001b[38;5;241m*\u001b[39mkwargs,\n\u001b[0;32m    844\u001b[0m         )\n\u001b[0;32m    845\u001b[0m \u001b[38;5;28;01melse\u001b[39;00m:\n\u001b[0;32m    846\u001b[0m     \u001b[38;5;66;03m# Get initial points\u001b[39;00m\n\u001b[0;32m    847\u001b[0m     ipfns \u001b[38;5;241m=\u001b[39m make_initial_point_fns_per_chain(\n\u001b[0;32m    848\u001b[0m         model\u001b[38;5;241m=\u001b[39mmodel,\n\u001b[0;32m    849\u001b[0m         overrides\u001b[38;5;241m=\u001b[39minitvals,\n\u001b[0;32m    850\u001b[0m         jitter_rvs\u001b[38;5;241m=\u001b[39m\u001b[38;5;28mset\u001b[39m(),\n\u001b[0;32m    851\u001b[0m         chains\u001b[38;5;241m=\u001b[39mchains,\n\u001b[0;32m    852\u001b[0m     )\n",
      "File \u001b[1;32mc:\\Users\\cormy\\anaconda3\\Lib\\site-packages\\pymc\\sampling\\mcmc.py:1598\u001b[0m, in \u001b[0;36minit_nuts\u001b[1;34m(init, chains, n_init, model, random_seed, progressbar, jitter_max_retries, tune, initvals, compile_kwargs, **kwargs)\u001b[0m\n\u001b[0;32m   1592\u001b[0m \u001b[38;5;28;01mif\u001b[39;00m \u001b[38;5;124m\"\u001b[39m\u001b[38;5;124madvi\u001b[39m\u001b[38;5;124m\"\u001b[39m \u001b[38;5;129;01min\u001b[39;00m init:\n\u001b[0;32m   1593\u001b[0m     cb \u001b[38;5;241m=\u001b[39m [\n\u001b[0;32m   1594\u001b[0m         pm\u001b[38;5;241m.\u001b[39mcallbacks\u001b[38;5;241m.\u001b[39mCheckParametersConvergence(tolerance\u001b[38;5;241m=\u001b[39m\u001b[38;5;241m1e-2\u001b[39m, diff\u001b[38;5;241m=\u001b[39m\u001b[38;5;124m\"\u001b[39m\u001b[38;5;124mabsolute\u001b[39m\u001b[38;5;124m\"\u001b[39m),\n\u001b[0;32m   1595\u001b[0m         pm\u001b[38;5;241m.\u001b[39mcallbacks\u001b[38;5;241m.\u001b[39mCheckParametersConvergence(tolerance\u001b[38;5;241m=\u001b[39m\u001b[38;5;241m1e-2\u001b[39m, diff\u001b[38;5;241m=\u001b[39m\u001b[38;5;124m\"\u001b[39m\u001b[38;5;124mrelative\u001b[39m\u001b[38;5;124m\"\u001b[39m),\n\u001b[0;32m   1596\u001b[0m     ]\n\u001b[1;32m-> 1598\u001b[0m logp_dlogp_func \u001b[38;5;241m=\u001b[39m model\u001b[38;5;241m.\u001b[39mlogp_dlogp_function(ravel_inputs\u001b[38;5;241m=\u001b[39m\u001b[38;5;28;01mTrue\u001b[39;00m, \u001b[38;5;241m*\u001b[39m\u001b[38;5;241m*\u001b[39mcompile_kwargs)\n\u001b[0;32m   1599\u001b[0m logp_dlogp_func\u001b[38;5;241m.\u001b[39mtrust_input \u001b[38;5;241m=\u001b[39m \u001b[38;5;28;01mTrue\u001b[39;00m\n\u001b[0;32m   1601\u001b[0m \u001b[38;5;28;01mdef\u001b[39;00m \u001b[38;5;21mmodel_logp_fn\u001b[39m(ip: PointType) \u001b[38;5;241m-\u001b[39m\u001b[38;5;241m>\u001b[39m np\u001b[38;5;241m.\u001b[39mndarray:\n",
      "File \u001b[1;32mc:\\Users\\cormy\\anaconda3\\Lib\\site-packages\\pymc\\model\\core.py:572\u001b[0m, in \u001b[0;36mModel.logp_dlogp_function\u001b[1;34m(self, grad_vars, tempered, initial_point, ravel_inputs, **kwargs)\u001b[0m\n\u001b[0;32m    566\u001b[0m     initial_point \u001b[38;5;241m=\u001b[39m \u001b[38;5;28mself\u001b[39m\u001b[38;5;241m.\u001b[39minitial_point(\u001b[38;5;241m0\u001b[39m)\n\u001b[0;32m    567\u001b[0m extra_vars_and_values \u001b[38;5;241m=\u001b[39m {\n\u001b[0;32m    568\u001b[0m     var: initial_point[var\u001b[38;5;241m.\u001b[39mname]\n\u001b[0;32m    569\u001b[0m     \u001b[38;5;28;01mfor\u001b[39;00m var \u001b[38;5;129;01min\u001b[39;00m \u001b[38;5;28mself\u001b[39m\u001b[38;5;241m.\u001b[39mvalue_vars\n\u001b[0;32m    570\u001b[0m     \u001b[38;5;28;01mif\u001b[39;00m var \u001b[38;5;129;01min\u001b[39;00m input_vars \u001b[38;5;129;01mand\u001b[39;00m var \u001b[38;5;129;01mnot\u001b[39;00m \u001b[38;5;129;01min\u001b[39;00m grad_vars\n\u001b[0;32m    571\u001b[0m }\n\u001b[1;32m--> 572\u001b[0m \u001b[38;5;28;01mreturn\u001b[39;00m ValueGradFunction(\n\u001b[0;32m    573\u001b[0m     costs,\n\u001b[0;32m    574\u001b[0m     grad_vars,\n\u001b[0;32m    575\u001b[0m     extra_vars_and_values,\n\u001b[0;32m    576\u001b[0m     model\u001b[38;5;241m=\u001b[39m\u001b[38;5;28mself\u001b[39m,\n\u001b[0;32m    577\u001b[0m     initial_point\u001b[38;5;241m=\u001b[39minitial_point,\n\u001b[0;32m    578\u001b[0m     ravel_inputs\u001b[38;5;241m=\u001b[39mravel_inputs,\n\u001b[0;32m    579\u001b[0m     \u001b[38;5;241m*\u001b[39m\u001b[38;5;241m*\u001b[39mkwargs,\n\u001b[0;32m    580\u001b[0m )\n",
      "File \u001b[1;32mc:\\Users\\cormy\\anaconda3\\Lib\\site-packages\\pymc\\model\\core.py:256\u001b[0m, in \u001b[0;36mValueGradFunction.__init__\u001b[1;34m(self, costs, grad_vars, extra_vars_and_values, dtype, casting, compute_grads, model, initial_point, ravel_inputs, **kwargs)\u001b[0m\n\u001b[0;32m    250\u001b[0m         warnings\u001b[38;5;241m.\u001b[39mwarn(\n\u001b[0;32m    251\u001b[0m             \u001b[38;5;124m\"\u001b[39m\u001b[38;5;124mValueGradFunction will become a function of raveled inputs.\u001b[39m\u001b[38;5;130;01m\\n\u001b[39;00m\u001b[38;5;124m\"\u001b[39m\n\u001b[0;32m    252\u001b[0m             \u001b[38;5;124m\"\u001b[39m\u001b[38;5;124mSpecify `ravel_inputs` to suppress this warning. Note that setting `ravel_inputs=False` will be forbidden in a future release.\u001b[39m\u001b[38;5;124m\"\u001b[39m\n\u001b[0;32m    253\u001b[0m         )\n\u001b[0;32m    254\u001b[0m     inputs \u001b[38;5;241m=\u001b[39m grad_vars\n\u001b[1;32m--> 256\u001b[0m \u001b[38;5;28mself\u001b[39m\u001b[38;5;241m.\u001b[39m_pytensor_function \u001b[38;5;241m=\u001b[39m \u001b[38;5;28mcompile\u001b[39m(inputs, outputs, givens\u001b[38;5;241m=\u001b[39mgivens, \u001b[38;5;241m*\u001b[39m\u001b[38;5;241m*\u001b[39mkwargs)\n\u001b[0;32m    257\u001b[0m \u001b[38;5;28mself\u001b[39m\u001b[38;5;241m.\u001b[39m_raveled_inputs \u001b[38;5;241m=\u001b[39m ravel_inputs\n",
      "File \u001b[1;32mc:\\Users\\cormy\\anaconda3\\Lib\\site-packages\\pymc\\pytensorf.py:947\u001b[0m, in \u001b[0;36mcompile\u001b[1;34m(inputs, outputs, random_seed, mode, **kwargs)\u001b[0m\n\u001b[0;32m    945\u001b[0m opt_qry \u001b[38;5;241m=\u001b[39m mode\u001b[38;5;241m.\u001b[39mprovided_optimizer\u001b[38;5;241m.\u001b[39mincluding(\u001b[38;5;124m\"\u001b[39m\u001b[38;5;124mrandom_make_inplace\u001b[39m\u001b[38;5;124m\"\u001b[39m, check_parameter_opt)\n\u001b[0;32m    946\u001b[0m mode \u001b[38;5;241m=\u001b[39m Mode(linker\u001b[38;5;241m=\u001b[39mmode\u001b[38;5;241m.\u001b[39mlinker, optimizer\u001b[38;5;241m=\u001b[39mopt_qry)\n\u001b[1;32m--> 947\u001b[0m pytensor_function \u001b[38;5;241m=\u001b[39m pytensor\u001b[38;5;241m.\u001b[39mfunction(\n\u001b[0;32m    948\u001b[0m     inputs,\n\u001b[0;32m    949\u001b[0m     outputs,\n\u001b[0;32m    950\u001b[0m     updates\u001b[38;5;241m=\u001b[39m{\u001b[38;5;241m*\u001b[39m\u001b[38;5;241m*\u001b[39mrng_updates, \u001b[38;5;241m*\u001b[39m\u001b[38;5;241m*\u001b[39mkwargs\u001b[38;5;241m.\u001b[39mpop(\u001b[38;5;124m\"\u001b[39m\u001b[38;5;124mupdates\u001b[39m\u001b[38;5;124m\"\u001b[39m, {})},\n\u001b[0;32m    951\u001b[0m     mode\u001b[38;5;241m=\u001b[39mmode,\n\u001b[0;32m    952\u001b[0m     \u001b[38;5;241m*\u001b[39m\u001b[38;5;241m*\u001b[39mkwargs,\n\u001b[0;32m    953\u001b[0m )\n\u001b[0;32m    954\u001b[0m \u001b[38;5;28;01mreturn\u001b[39;00m pytensor_function\n",
      "File \u001b[1;32mc:\\Users\\cormy\\anaconda3\\Lib\\site-packages\\pytensor\\compile\\function\\__init__.py:332\u001b[0m, in \u001b[0;36mfunction\u001b[1;34m(inputs, outputs, mode, updates, givens, no_default_updates, accept_inplace, name, rebuild_strict, allow_input_downcast, profile, on_unused_input, trust_input)\u001b[0m\n\u001b[0;32m    321\u001b[0m     fn \u001b[38;5;241m=\u001b[39m orig_function(\n\u001b[0;32m    322\u001b[0m         inputs,\n\u001b[0;32m    323\u001b[0m         outputs,\n\u001b[1;32m   (...)\u001b[0m\n\u001b[0;32m    327\u001b[0m         trust_input\u001b[38;5;241m=\u001b[39mtrust_input,\n\u001b[0;32m    328\u001b[0m     )\n\u001b[0;32m    329\u001b[0m \u001b[38;5;28;01melse\u001b[39;00m:\n\u001b[0;32m    330\u001b[0m     \u001b[38;5;66;03m# note: pfunc will also call orig_function -- orig_function is\u001b[39;00m\n\u001b[0;32m    331\u001b[0m     \u001b[38;5;66;03m#      a choke point that all compilation must pass through\u001b[39;00m\n\u001b[1;32m--> 332\u001b[0m     fn \u001b[38;5;241m=\u001b[39m pfunc(\n\u001b[0;32m    333\u001b[0m         params\u001b[38;5;241m=\u001b[39minputs,\n\u001b[0;32m    334\u001b[0m         outputs\u001b[38;5;241m=\u001b[39moutputs,\n\u001b[0;32m    335\u001b[0m         mode\u001b[38;5;241m=\u001b[39mmode,\n\u001b[0;32m    336\u001b[0m         updates\u001b[38;5;241m=\u001b[39mupdates,\n\u001b[0;32m    337\u001b[0m         givens\u001b[38;5;241m=\u001b[39mgivens,\n\u001b[0;32m    338\u001b[0m         no_default_updates\u001b[38;5;241m=\u001b[39mno_default_updates,\n\u001b[0;32m    339\u001b[0m         accept_inplace\u001b[38;5;241m=\u001b[39maccept_inplace,\n\u001b[0;32m    340\u001b[0m         name\u001b[38;5;241m=\u001b[39mname,\n\u001b[0;32m    341\u001b[0m         rebuild_strict\u001b[38;5;241m=\u001b[39mrebuild_strict,\n\u001b[0;32m    342\u001b[0m         allow_input_downcast\u001b[38;5;241m=\u001b[39mallow_input_downcast,\n\u001b[0;32m    343\u001b[0m         on_unused_input\u001b[38;5;241m=\u001b[39mon_unused_input,\n\u001b[0;32m    344\u001b[0m         profile\u001b[38;5;241m=\u001b[39mprofile,\n\u001b[0;32m    345\u001b[0m         output_keys\u001b[38;5;241m=\u001b[39moutput_keys,\n\u001b[0;32m    346\u001b[0m         trust_input\u001b[38;5;241m=\u001b[39mtrust_input,\n\u001b[0;32m    347\u001b[0m     )\n\u001b[0;32m    348\u001b[0m \u001b[38;5;28;01mreturn\u001b[39;00m fn\n",
      "File \u001b[1;32mc:\\Users\\cormy\\anaconda3\\Lib\\site-packages\\pytensor\\compile\\function\\pfunc.py:466\u001b[0m, in \u001b[0;36mpfunc\u001b[1;34m(params, outputs, mode, updates, givens, no_default_updates, accept_inplace, name, rebuild_strict, allow_input_downcast, profile, on_unused_input, output_keys, fgraph, trust_input)\u001b[0m\n\u001b[0;32m    452\u001b[0m     profile \u001b[38;5;241m=\u001b[39m ProfileStats(message\u001b[38;5;241m=\u001b[39mprofile)\n\u001b[0;32m    454\u001b[0m inputs, cloned_outputs \u001b[38;5;241m=\u001b[39m construct_pfunc_ins_and_outs(\n\u001b[0;32m    455\u001b[0m     params,\n\u001b[0;32m    456\u001b[0m     outputs,\n\u001b[1;32m   (...)\u001b[0m\n\u001b[0;32m    463\u001b[0m     fgraph\u001b[38;5;241m=\u001b[39mfgraph,\n\u001b[0;32m    464\u001b[0m )\n\u001b[1;32m--> 466\u001b[0m \u001b[38;5;28;01mreturn\u001b[39;00m orig_function(\n\u001b[0;32m    467\u001b[0m     inputs,\n\u001b[0;32m    468\u001b[0m     cloned_outputs,\n\u001b[0;32m    469\u001b[0m     mode,\n\u001b[0;32m    470\u001b[0m     accept_inplace\u001b[38;5;241m=\u001b[39maccept_inplace,\n\u001b[0;32m    471\u001b[0m     name\u001b[38;5;241m=\u001b[39mname,\n\u001b[0;32m    472\u001b[0m     profile\u001b[38;5;241m=\u001b[39mprofile,\n\u001b[0;32m    473\u001b[0m     on_unused_input\u001b[38;5;241m=\u001b[39mon_unused_input,\n\u001b[0;32m    474\u001b[0m     output_keys\u001b[38;5;241m=\u001b[39moutput_keys,\n\u001b[0;32m    475\u001b[0m     fgraph\u001b[38;5;241m=\u001b[39mfgraph,\n\u001b[0;32m    476\u001b[0m     trust_input\u001b[38;5;241m=\u001b[39mtrust_input,\n\u001b[0;32m    477\u001b[0m )\n",
      "File \u001b[1;32mc:\\Users\\cormy\\anaconda3\\Lib\\site-packages\\pytensor\\compile\\function\\types.py:1835\u001b[0m, in \u001b[0;36morig_function\u001b[1;34m(inputs, outputs, mode, accept_inplace, name, profile, on_unused_input, output_keys, fgraph, trust_input)\u001b[0m\n\u001b[0;32m   1822\u001b[0m     m \u001b[38;5;241m=\u001b[39m Maker(\n\u001b[0;32m   1823\u001b[0m         inputs,\n\u001b[0;32m   1824\u001b[0m         outputs,\n\u001b[1;32m   (...)\u001b[0m\n\u001b[0;32m   1832\u001b[0m         trust_input\u001b[38;5;241m=\u001b[39mtrust_input,\n\u001b[0;32m   1833\u001b[0m     )\n\u001b[0;32m   1834\u001b[0m     \u001b[38;5;28;01mwith\u001b[39;00m config\u001b[38;5;241m.\u001b[39mchange_flags(compute_test_value\u001b[38;5;241m=\u001b[39m\u001b[38;5;124m\"\u001b[39m\u001b[38;5;124moff\u001b[39m\u001b[38;5;124m\"\u001b[39m):\n\u001b[1;32m-> 1835\u001b[0m         fn \u001b[38;5;241m=\u001b[39m m\u001b[38;5;241m.\u001b[39mcreate(defaults)\n\u001b[0;32m   1836\u001b[0m \u001b[38;5;28;01mfinally\u001b[39;00m:\n\u001b[0;32m   1837\u001b[0m     \u001b[38;5;28;01mif\u001b[39;00m profile \u001b[38;5;129;01mand\u001b[39;00m fn:\n",
      "File \u001b[1;32mc:\\Users\\cormy\\anaconda3\\Lib\\site-packages\\pytensor\\compile\\function\\types.py:1719\u001b[0m, in \u001b[0;36mFunctionMaker.create\u001b[1;34m(self, input_storage, storage_map)\u001b[0m\n\u001b[0;32m   1716\u001b[0m start_import_time \u001b[38;5;241m=\u001b[39m pytensor\u001b[38;5;241m.\u001b[39mlink\u001b[38;5;241m.\u001b[39mc\u001b[38;5;241m.\u001b[39mcmodule\u001b[38;5;241m.\u001b[39mimport_time\n\u001b[0;32m   1718\u001b[0m \u001b[38;5;28;01mwith\u001b[39;00m config\u001b[38;5;241m.\u001b[39mchange_flags(traceback__limit\u001b[38;5;241m=\u001b[39mconfig\u001b[38;5;241m.\u001b[39mtraceback__compile_limit):\n\u001b[1;32m-> 1719\u001b[0m     _fn, _i, _o \u001b[38;5;241m=\u001b[39m \u001b[38;5;28mself\u001b[39m\u001b[38;5;241m.\u001b[39mlinker\u001b[38;5;241m.\u001b[39mmake_thunk(\n\u001b[0;32m   1720\u001b[0m         input_storage\u001b[38;5;241m=\u001b[39minput_storage_lists, storage_map\u001b[38;5;241m=\u001b[39mstorage_map\n\u001b[0;32m   1721\u001b[0m     )\n\u001b[0;32m   1723\u001b[0m end_linker \u001b[38;5;241m=\u001b[39m time\u001b[38;5;241m.\u001b[39mperf_counter()\n\u001b[0;32m   1725\u001b[0m linker_time \u001b[38;5;241m=\u001b[39m end_linker \u001b[38;5;241m-\u001b[39m start_linker\n",
      "File \u001b[1;32mc:\\Users\\cormy\\anaconda3\\Lib\\site-packages\\pytensor\\link\\basic.py:245\u001b[0m, in \u001b[0;36mLocalLinker.make_thunk\u001b[1;34m(self, input_storage, output_storage, storage_map, **kwargs)\u001b[0m\n\u001b[0;32m    238\u001b[0m \u001b[38;5;28;01mdef\u001b[39;00m \u001b[38;5;21mmake_thunk\u001b[39m(\n\u001b[0;32m    239\u001b[0m     \u001b[38;5;28mself\u001b[39m,\n\u001b[0;32m    240\u001b[0m     input_storage: Optional[\u001b[38;5;124m\"\u001b[39m\u001b[38;5;124mInputStorageType\u001b[39m\u001b[38;5;124m\"\u001b[39m] \u001b[38;5;241m=\u001b[39m \u001b[38;5;28;01mNone\u001b[39;00m,\n\u001b[1;32m   (...)\u001b[0m\n\u001b[0;32m    243\u001b[0m     \u001b[38;5;241m*\u001b[39m\u001b[38;5;241m*\u001b[39mkwargs,\n\u001b[0;32m    244\u001b[0m ) \u001b[38;5;241m-\u001b[39m\u001b[38;5;241m>\u001b[39m \u001b[38;5;28mtuple\u001b[39m[\u001b[38;5;124m\"\u001b[39m\u001b[38;5;124mBasicThunkType\u001b[39m\u001b[38;5;124m\"\u001b[39m, \u001b[38;5;124m\"\u001b[39m\u001b[38;5;124mInputStorageType\u001b[39m\u001b[38;5;124m\"\u001b[39m, \u001b[38;5;124m\"\u001b[39m\u001b[38;5;124mOutputStorageType\u001b[39m\u001b[38;5;124m\"\u001b[39m]:\n\u001b[1;32m--> 245\u001b[0m     \u001b[38;5;28;01mreturn\u001b[39;00m \u001b[38;5;28mself\u001b[39m\u001b[38;5;241m.\u001b[39mmake_all(\n\u001b[0;32m    246\u001b[0m         input_storage\u001b[38;5;241m=\u001b[39minput_storage,\n\u001b[0;32m    247\u001b[0m         output_storage\u001b[38;5;241m=\u001b[39moutput_storage,\n\u001b[0;32m    248\u001b[0m         storage_map\u001b[38;5;241m=\u001b[39mstorage_map,\n\u001b[0;32m    249\u001b[0m     )[:\u001b[38;5;241m3\u001b[39m]\n",
      "File \u001b[1;32mc:\\Users\\cormy\\anaconda3\\Lib\\site-packages\\pytensor\\link\\vm.py:1230\u001b[0m, in \u001b[0;36mVMLinker.make_all\u001b[1;34m(self, profiler, input_storage, output_storage, storage_map)\u001b[0m\n\u001b[0;32m   1225\u001b[0m thunk_start \u001b[38;5;241m=\u001b[39m time\u001b[38;5;241m.\u001b[39mperf_counter()\n\u001b[0;32m   1226\u001b[0m \u001b[38;5;66;03m# no-recycling is done at each VM.__call__ So there is\u001b[39;00m\n\u001b[0;32m   1227\u001b[0m \u001b[38;5;66;03m# no need to cause duplicate c code by passing\u001b[39;00m\n\u001b[0;32m   1228\u001b[0m \u001b[38;5;66;03m# no_recycling here.\u001b[39;00m\n\u001b[0;32m   1229\u001b[0m thunks\u001b[38;5;241m.\u001b[39mappend(\n\u001b[1;32m-> 1230\u001b[0m     node\u001b[38;5;241m.\u001b[39mop\u001b[38;5;241m.\u001b[39mmake_thunk(node, storage_map, compute_map, [], impl\u001b[38;5;241m=\u001b[39mimpl)\n\u001b[0;32m   1231\u001b[0m )\n\u001b[0;32m   1232\u001b[0m linker_make_thunk_time[node] \u001b[38;5;241m=\u001b[39m time\u001b[38;5;241m.\u001b[39mperf_counter() \u001b[38;5;241m-\u001b[39m thunk_start\n\u001b[0;32m   1233\u001b[0m \u001b[38;5;28;01mif\u001b[39;00m \u001b[38;5;129;01mnot\u001b[39;00m \u001b[38;5;28mhasattr\u001b[39m(thunks[\u001b[38;5;241m-\u001b[39m\u001b[38;5;241m1\u001b[39m], \u001b[38;5;124m\"\u001b[39m\u001b[38;5;124mlazy\u001b[39m\u001b[38;5;124m\"\u001b[39m):\n\u001b[0;32m   1234\u001b[0m     \u001b[38;5;66;03m# We don't want all ops maker to think about lazy Ops.\u001b[39;00m\n\u001b[0;32m   1235\u001b[0m     \u001b[38;5;66;03m# So if they didn't specify that its lazy or not, it isn't.\u001b[39;00m\n\u001b[0;32m   1236\u001b[0m     \u001b[38;5;66;03m# If this member isn't present, it will crash later.\u001b[39;00m\n",
      "File \u001b[1;32mc:\\Users\\cormy\\anaconda3\\Lib\\site-packages\\pytensor\\link\\c\\op.py:125\u001b[0m, in \u001b[0;36mCOp.make_thunk\u001b[1;34m(self, node, storage_map, compute_map, no_recycling, impl)\u001b[0m\n\u001b[0;32m    121\u001b[0m \u001b[38;5;28mself\u001b[39m\u001b[38;5;241m.\u001b[39mprepare_node(\n\u001b[0;32m    122\u001b[0m     node, storage_map\u001b[38;5;241m=\u001b[39mstorage_map, compute_map\u001b[38;5;241m=\u001b[39mcompute_map, impl\u001b[38;5;241m=\u001b[39m\u001b[38;5;124m\"\u001b[39m\u001b[38;5;124mc\u001b[39m\u001b[38;5;124m\"\u001b[39m\n\u001b[0;32m    123\u001b[0m )\n\u001b[0;32m    124\u001b[0m \u001b[38;5;28;01mtry\u001b[39;00m:\n\u001b[1;32m--> 125\u001b[0m     \u001b[38;5;28;01mreturn\u001b[39;00m \u001b[38;5;28mself\u001b[39m\u001b[38;5;241m.\u001b[39mmake_c_thunk(node, storage_map, compute_map, no_recycling)\n\u001b[0;32m    126\u001b[0m \u001b[38;5;28;01mexcept\u001b[39;00m (\u001b[38;5;167;01mNotImplementedError\u001b[39;00m, MethodNotDefined):\n\u001b[0;32m    127\u001b[0m     \u001b[38;5;66;03m# We requested the c code, so don't catch the error.\u001b[39;00m\n\u001b[0;32m    128\u001b[0m     \u001b[38;5;28;01mif\u001b[39;00m impl \u001b[38;5;241m==\u001b[39m \u001b[38;5;124m\"\u001b[39m\u001b[38;5;124mc\u001b[39m\u001b[38;5;124m\"\u001b[39m:\n",
      "File \u001b[1;32mc:\\Users\\cormy\\anaconda3\\Lib\\site-packages\\pytensor\\link\\c\\op.py:84\u001b[0m, in \u001b[0;36mCOp.make_c_thunk\u001b[1;34m(self, node, storage_map, compute_map, no_recycling)\u001b[0m\n\u001b[0;32m     82\u001b[0m         warnings\u001b[38;5;241m.\u001b[39mwarn(\u001b[38;5;124mf\u001b[39m\u001b[38;5;124m\"\u001b[39m\u001b[38;5;124mDisabling C code for \u001b[39m\u001b[38;5;132;01m{\u001b[39;00m\u001b[38;5;28mself\u001b[39m\u001b[38;5;132;01m}\u001b[39;00m\u001b[38;5;124m due to unsupported float16\u001b[39m\u001b[38;5;124m\"\u001b[39m)\n\u001b[0;32m     83\u001b[0m         \u001b[38;5;28;01mraise\u001b[39;00m \u001b[38;5;167;01mNotImplementedError\u001b[39;00m(\u001b[38;5;124m\"\u001b[39m\u001b[38;5;124mfloat16\u001b[39m\u001b[38;5;124m\"\u001b[39m)\n\u001b[1;32m---> 84\u001b[0m outputs \u001b[38;5;241m=\u001b[39m cl\u001b[38;5;241m.\u001b[39mmake_thunk(\n\u001b[0;32m     85\u001b[0m     input_storage\u001b[38;5;241m=\u001b[39mnode_input_storage, output_storage\u001b[38;5;241m=\u001b[39mnode_output_storage\n\u001b[0;32m     86\u001b[0m )\n\u001b[0;32m     87\u001b[0m thunk, node_input_filters, node_output_filters \u001b[38;5;241m=\u001b[39m outputs\n\u001b[0;32m     89\u001b[0m \u001b[38;5;28;01mif\u001b[39;00m compute_map \u001b[38;5;129;01mis\u001b[39;00m \u001b[38;5;28;01mNone\u001b[39;00m:\n",
      "File \u001b[1;32mc:\\Users\\cormy\\anaconda3\\Lib\\site-packages\\pytensor\\link\\c\\basic.py:1185\u001b[0m, in \u001b[0;36mCLinker.make_thunk\u001b[1;34m(self, input_storage, output_storage, storage_map, cache, **kwargs)\u001b[0m\n\u001b[0;32m   1150\u001b[0m \u001b[38;5;250m\u001b[39m\u001b[38;5;124;03m\"\"\"Compile this linker's `self.fgraph` and return a function that performs the computations.\u001b[39;00m\n\u001b[0;32m   1151\u001b[0m \n\u001b[0;32m   1152\u001b[0m \u001b[38;5;124;03mThe return values can be used as follows:\u001b[39;00m\n\u001b[1;32m   (...)\u001b[0m\n\u001b[0;32m   1182\u001b[0m \n\u001b[0;32m   1183\u001b[0m \u001b[38;5;124;03m\"\"\"\u001b[39;00m\n\u001b[0;32m   1184\u001b[0m init_tasks, tasks \u001b[38;5;241m=\u001b[39m \u001b[38;5;28mself\u001b[39m\u001b[38;5;241m.\u001b[39mget_init_tasks()\n\u001b[1;32m-> 1185\u001b[0m cthunk, module, in_storage, out_storage, error_storage \u001b[38;5;241m=\u001b[39m \u001b[38;5;28mself\u001b[39m\u001b[38;5;241m.\u001b[39m__compile__(\n\u001b[0;32m   1186\u001b[0m     input_storage, output_storage, storage_map, cache\n\u001b[0;32m   1187\u001b[0m )\n\u001b[0;32m   1189\u001b[0m res \u001b[38;5;241m=\u001b[39m _CThunk(cthunk, init_tasks, tasks, error_storage, module)\n\u001b[0;32m   1190\u001b[0m res\u001b[38;5;241m.\u001b[39mnodes \u001b[38;5;241m=\u001b[39m \u001b[38;5;28mself\u001b[39m\u001b[38;5;241m.\u001b[39mnode_order\n",
      "File \u001b[1;32mc:\\Users\\cormy\\anaconda3\\Lib\\site-packages\\pytensor\\link\\c\\basic.py:1102\u001b[0m, in \u001b[0;36mCLinker.__compile__\u001b[1;34m(self, input_storage, output_storage, storage_map, cache)\u001b[0m\n\u001b[0;32m   1100\u001b[0m input_storage \u001b[38;5;241m=\u001b[39m \u001b[38;5;28mtuple\u001b[39m(input_storage)\n\u001b[0;32m   1101\u001b[0m output_storage \u001b[38;5;241m=\u001b[39m \u001b[38;5;28mtuple\u001b[39m(output_storage)\n\u001b[1;32m-> 1102\u001b[0m thunk, module \u001b[38;5;241m=\u001b[39m \u001b[38;5;28mself\u001b[39m\u001b[38;5;241m.\u001b[39mcthunk_factory(\n\u001b[0;32m   1103\u001b[0m     error_storage,\n\u001b[0;32m   1104\u001b[0m     input_storage,\n\u001b[0;32m   1105\u001b[0m     output_storage,\n\u001b[0;32m   1106\u001b[0m     storage_map,\n\u001b[0;32m   1107\u001b[0m     cache,\n\u001b[0;32m   1108\u001b[0m )\n\u001b[0;32m   1109\u001b[0m \u001b[38;5;28;01mreturn\u001b[39;00m (\n\u001b[0;32m   1110\u001b[0m     thunk,\n\u001b[0;32m   1111\u001b[0m     module,\n\u001b[1;32m   (...)\u001b[0m\n\u001b[0;32m   1124\u001b[0m     error_storage,\n\u001b[0;32m   1125\u001b[0m )\n",
      "File \u001b[1;32mc:\\Users\\cormy\\anaconda3\\Lib\\site-packages\\pytensor\\link\\c\\basic.py:1626\u001b[0m, in \u001b[0;36mCLinker.cthunk_factory\u001b[1;34m(self, error_storage, in_storage, out_storage, storage_map, cache)\u001b[0m\n\u001b[0;32m   1624\u001b[0m     \u001b[38;5;28;01mif\u001b[39;00m cache \u001b[38;5;129;01mis\u001b[39;00m \u001b[38;5;28;01mNone\u001b[39;00m:\n\u001b[0;32m   1625\u001b[0m         cache \u001b[38;5;241m=\u001b[39m get_module_cache()\n\u001b[1;32m-> 1626\u001b[0m     module \u001b[38;5;241m=\u001b[39m cache\u001b[38;5;241m.\u001b[39mmodule_from_key(key\u001b[38;5;241m=\u001b[39mkey, lnk\u001b[38;5;241m=\u001b[39m\u001b[38;5;28mself\u001b[39m)\n\u001b[0;32m   1628\u001b[0m \u001b[38;5;28mvars\u001b[39m \u001b[38;5;241m=\u001b[39m \u001b[38;5;28mself\u001b[39m\u001b[38;5;241m.\u001b[39minputs \u001b[38;5;241m+\u001b[39m \u001b[38;5;28mself\u001b[39m\u001b[38;5;241m.\u001b[39moutputs \u001b[38;5;241m+\u001b[39m \u001b[38;5;28mself\u001b[39m\u001b[38;5;241m.\u001b[39morphans\n\u001b[0;32m   1629\u001b[0m \u001b[38;5;66;03m# List of indices that should be ignored when passing the arguments\u001b[39;00m\n\u001b[0;32m   1630\u001b[0m \u001b[38;5;66;03m# (basically, everything that the previous call to uniq eliminated)\u001b[39;00m\n",
      "File \u001b[1;32mc:\\Users\\cormy\\anaconda3\\Lib\\site-packages\\pytensor\\link\\c\\cmodule.py:1251\u001b[0m, in \u001b[0;36mModuleCache.module_from_key\u001b[1;34m(self, key, lnk)\u001b[0m\n\u001b[0;32m   1249\u001b[0m \u001b[38;5;28;01mtry\u001b[39;00m:\n\u001b[0;32m   1250\u001b[0m     location \u001b[38;5;241m=\u001b[39m dlimport_workdir(\u001b[38;5;28mself\u001b[39m\u001b[38;5;241m.\u001b[39mdirname)\n\u001b[1;32m-> 1251\u001b[0m     module \u001b[38;5;241m=\u001b[39m lnk\u001b[38;5;241m.\u001b[39mcompile_cmodule(location)\n\u001b[0;32m   1252\u001b[0m     name \u001b[38;5;241m=\u001b[39m module\u001b[38;5;241m.\u001b[39m\u001b[38;5;18m__file__\u001b[39m\n\u001b[0;32m   1253\u001b[0m     \u001b[38;5;28;01massert\u001b[39;00m name\u001b[38;5;241m.\u001b[39mstartswith(location)\n",
      "File \u001b[1;32mc:\\Users\\cormy\\anaconda3\\Lib\\site-packages\\pytensor\\link\\c\\basic.py:1527\u001b[0m, in \u001b[0;36mCLinker.compile_cmodule\u001b[1;34m(self, location)\u001b[0m\n\u001b[0;32m   1525\u001b[0m \u001b[38;5;28;01mtry\u001b[39;00m:\n\u001b[0;32m   1526\u001b[0m     _logger\u001b[38;5;241m.\u001b[39mdebug(\u001b[38;5;124mf\u001b[39m\u001b[38;5;124m\"\u001b[39m\u001b[38;5;124mLOCATION \u001b[39m\u001b[38;5;132;01m{\u001b[39;00mlocation\u001b[38;5;132;01m}\u001b[39;00m\u001b[38;5;124m\"\u001b[39m)\n\u001b[1;32m-> 1527\u001b[0m     module \u001b[38;5;241m=\u001b[39m c_compiler\u001b[38;5;241m.\u001b[39mcompile_str(\n\u001b[0;32m   1528\u001b[0m         module_name\u001b[38;5;241m=\u001b[39mmod\u001b[38;5;241m.\u001b[39mcode_hash,\n\u001b[0;32m   1529\u001b[0m         src_code\u001b[38;5;241m=\u001b[39msrc_code,\n\u001b[0;32m   1530\u001b[0m         location\u001b[38;5;241m=\u001b[39mlocation,\n\u001b[0;32m   1531\u001b[0m         include_dirs\u001b[38;5;241m=\u001b[39m\u001b[38;5;28mself\u001b[39m\u001b[38;5;241m.\u001b[39mheader_dirs(),\n\u001b[0;32m   1532\u001b[0m         lib_dirs\u001b[38;5;241m=\u001b[39m\u001b[38;5;28mself\u001b[39m\u001b[38;5;241m.\u001b[39mlib_dirs(),\n\u001b[0;32m   1533\u001b[0m         libs\u001b[38;5;241m=\u001b[39mlibs,\n\u001b[0;32m   1534\u001b[0m         preargs\u001b[38;5;241m=\u001b[39mpreargs,\n\u001b[0;32m   1535\u001b[0m     )\n\u001b[0;32m   1536\u001b[0m \u001b[38;5;28;01mexcept\u001b[39;00m \u001b[38;5;167;01mException\u001b[39;00m \u001b[38;5;28;01mas\u001b[39;00m e:\n\u001b[0;32m   1537\u001b[0m     e\u001b[38;5;241m.\u001b[39margs \u001b[38;5;241m+\u001b[39m\u001b[38;5;241m=\u001b[39m (\u001b[38;5;28mstr\u001b[39m(\u001b[38;5;28mself\u001b[39m\u001b[38;5;241m.\u001b[39mfgraph),)\n",
      "File \u001b[1;32mc:\\Users\\cormy\\anaconda3\\Lib\\site-packages\\pytensor\\link\\c\\cmodule.py:2626\u001b[0m, in \u001b[0;36mGCC_compiler.compile_str\u001b[1;34m(module_name, src_code, location, include_dirs, lib_dirs, libs, preargs, py_module, hide_symbols)\u001b[0m\n\u001b[0;32m   2623\u001b[0m     \u001b[38;5;28mprint\u001b[39m(shlex\u001b[38;5;241m.\u001b[39mjoin(cmd), file\u001b[38;5;241m=\u001b[39msys\u001b[38;5;241m.\u001b[39mstderr)\n\u001b[0;32m   2625\u001b[0m \u001b[38;5;28;01mtry\u001b[39;00m:\n\u001b[1;32m-> 2626\u001b[0m     p_out \u001b[38;5;241m=\u001b[39m output_subprocess_Popen(cmd)\n\u001b[0;32m   2627\u001b[0m     compile_stderr \u001b[38;5;241m=\u001b[39m p_out[\u001b[38;5;241m1\u001b[39m]\u001b[38;5;241m.\u001b[39mdecode()\n\u001b[0;32m   2628\u001b[0m \u001b[38;5;28;01mexcept\u001b[39;00m \u001b[38;5;167;01mException\u001b[39;00m:\n\u001b[0;32m   2629\u001b[0m     \u001b[38;5;66;03m# An exception can occur e.g. if `g++` is not found.\u001b[39;00m\n",
      "File \u001b[1;32mc:\\Users\\cormy\\anaconda3\\Lib\\site-packages\\pytensor\\utils.py:184\u001b[0m, in \u001b[0;36moutput_subprocess_Popen\u001b[1;34m(command, **params)\u001b[0m\n\u001b[0;32m    181\u001b[0m p \u001b[38;5;241m=\u001b[39m subprocess_Popen(command, \u001b[38;5;241m*\u001b[39m\u001b[38;5;241m*\u001b[39mparams)\n\u001b[0;32m    182\u001b[0m \u001b[38;5;66;03m# we need to use communicate to make sure we don't deadlock around\u001b[39;00m\n\u001b[0;32m    183\u001b[0m \u001b[38;5;66;03m# the stdout/stderr pipe.\u001b[39;00m\n\u001b[1;32m--> 184\u001b[0m out \u001b[38;5;241m=\u001b[39m p\u001b[38;5;241m.\u001b[39mcommunicate()\n\u001b[0;32m    185\u001b[0m \u001b[38;5;28;01mreturn\u001b[39;00m (\u001b[38;5;241m*\u001b[39mout, p\u001b[38;5;241m.\u001b[39mreturncode)\n",
      "File \u001b[1;32mc:\\Users\\cormy\\anaconda3\\Lib\\subprocess.py:1209\u001b[0m, in \u001b[0;36mPopen.communicate\u001b[1;34m(self, input, timeout)\u001b[0m\n\u001b[0;32m   1206\u001b[0m     endtime \u001b[38;5;241m=\u001b[39m \u001b[38;5;28;01mNone\u001b[39;00m\n\u001b[0;32m   1208\u001b[0m \u001b[38;5;28;01mtry\u001b[39;00m:\n\u001b[1;32m-> 1209\u001b[0m     stdout, stderr \u001b[38;5;241m=\u001b[39m \u001b[38;5;28mself\u001b[39m\u001b[38;5;241m.\u001b[39m_communicate(\u001b[38;5;28minput\u001b[39m, endtime, timeout)\n\u001b[0;32m   1210\u001b[0m \u001b[38;5;28;01mexcept\u001b[39;00m \u001b[38;5;167;01mKeyboardInterrupt\u001b[39;00m:\n\u001b[0;32m   1211\u001b[0m     \u001b[38;5;66;03m# https://bugs.python.org/issue25942\u001b[39;00m\n\u001b[0;32m   1212\u001b[0m     \u001b[38;5;66;03m# See the detailed comment in .wait().\u001b[39;00m\n\u001b[0;32m   1213\u001b[0m     \u001b[38;5;28;01mif\u001b[39;00m timeout \u001b[38;5;129;01mis\u001b[39;00m \u001b[38;5;129;01mnot\u001b[39;00m \u001b[38;5;28;01mNone\u001b[39;00m:\n",
      "File \u001b[1;32mc:\\Users\\cormy\\anaconda3\\Lib\\subprocess.py:1626\u001b[0m, in \u001b[0;36mPopen._communicate\u001b[1;34m(self, input, endtime, orig_timeout)\u001b[0m\n\u001b[0;32m   1622\u001b[0m \u001b[38;5;66;03m# Wait for the reader threads, or time out.  If we time out, the\u001b[39;00m\n\u001b[0;32m   1623\u001b[0m \u001b[38;5;66;03m# threads remain reading and the fds left open in case the user\u001b[39;00m\n\u001b[0;32m   1624\u001b[0m \u001b[38;5;66;03m# calls communicate again.\u001b[39;00m\n\u001b[0;32m   1625\u001b[0m \u001b[38;5;28;01mif\u001b[39;00m \u001b[38;5;28mself\u001b[39m\u001b[38;5;241m.\u001b[39mstdout \u001b[38;5;129;01mis\u001b[39;00m \u001b[38;5;129;01mnot\u001b[39;00m \u001b[38;5;28;01mNone\u001b[39;00m:\n\u001b[1;32m-> 1626\u001b[0m     \u001b[38;5;28mself\u001b[39m\u001b[38;5;241m.\u001b[39mstdout_thread\u001b[38;5;241m.\u001b[39mjoin(\u001b[38;5;28mself\u001b[39m\u001b[38;5;241m.\u001b[39m_remaining_time(endtime))\n\u001b[0;32m   1627\u001b[0m     \u001b[38;5;28;01mif\u001b[39;00m \u001b[38;5;28mself\u001b[39m\u001b[38;5;241m.\u001b[39mstdout_thread\u001b[38;5;241m.\u001b[39mis_alive():\n\u001b[0;32m   1628\u001b[0m         \u001b[38;5;28;01mraise\u001b[39;00m TimeoutExpired(\u001b[38;5;28mself\u001b[39m\u001b[38;5;241m.\u001b[39margs, orig_timeout)\n",
      "File \u001b[1;32mc:\\Users\\cormy\\anaconda3\\Lib\\threading.py:1112\u001b[0m, in \u001b[0;36mThread.join\u001b[1;34m(self, timeout)\u001b[0m\n\u001b[0;32m   1109\u001b[0m     \u001b[38;5;28;01mraise\u001b[39;00m \u001b[38;5;167;01mRuntimeError\u001b[39;00m(\u001b[38;5;124m\"\u001b[39m\u001b[38;5;124mcannot join current thread\u001b[39m\u001b[38;5;124m\"\u001b[39m)\n\u001b[0;32m   1111\u001b[0m \u001b[38;5;28;01mif\u001b[39;00m timeout \u001b[38;5;129;01mis\u001b[39;00m \u001b[38;5;28;01mNone\u001b[39;00m:\n\u001b[1;32m-> 1112\u001b[0m     \u001b[38;5;28mself\u001b[39m\u001b[38;5;241m.\u001b[39m_wait_for_tstate_lock()\n\u001b[0;32m   1113\u001b[0m \u001b[38;5;28;01melse\u001b[39;00m:\n\u001b[0;32m   1114\u001b[0m     \u001b[38;5;66;03m# the behavior of a negative timeout isn't documented, but\u001b[39;00m\n\u001b[0;32m   1115\u001b[0m     \u001b[38;5;66;03m# historically .join(timeout=x) for x<0 has acted as if timeout=0\u001b[39;00m\n\u001b[0;32m   1116\u001b[0m     \u001b[38;5;28mself\u001b[39m\u001b[38;5;241m.\u001b[39m_wait_for_tstate_lock(timeout\u001b[38;5;241m=\u001b[39m\u001b[38;5;28mmax\u001b[39m(timeout, \u001b[38;5;241m0\u001b[39m))\n",
      "File \u001b[1;32mc:\\Users\\cormy\\anaconda3\\Lib\\threading.py:1132\u001b[0m, in \u001b[0;36mThread._wait_for_tstate_lock\u001b[1;34m(self, block, timeout)\u001b[0m\n\u001b[0;32m   1129\u001b[0m     \u001b[38;5;28;01mreturn\u001b[39;00m\n\u001b[0;32m   1131\u001b[0m \u001b[38;5;28;01mtry\u001b[39;00m:\n\u001b[1;32m-> 1132\u001b[0m     \u001b[38;5;28;01mif\u001b[39;00m lock\u001b[38;5;241m.\u001b[39macquire(block, timeout):\n\u001b[0;32m   1133\u001b[0m         lock\u001b[38;5;241m.\u001b[39mrelease()\n\u001b[0;32m   1134\u001b[0m         \u001b[38;5;28mself\u001b[39m\u001b[38;5;241m.\u001b[39m_stop()\n",
      "\u001b[1;31mKeyboardInterrupt\u001b[0m: "
     ]
    }
   ],
   "source": [
    "home_model.fit()"
   ]
  },
  {
   "cell_type": "code",
   "execution_count": null,
   "id": "f2e4d952",
   "metadata": {},
   "outputs": [],
   "source": []
  }
 ],
 "metadata": {
  "kernelspec": {
   "display_name": "Python 3",
   "language": "python",
   "name": "python3"
  },
  "language_info": {
   "codemirror_mode": {
    "name": "ipython",
    "version": 3
   },
   "file_extension": ".py",
   "mimetype": "text/x-python",
   "name": "python",
   "nbconvert_exporter": "python",
   "pygments_lexer": "ipython3",
   "version": "3.11.5"
  }
 },
 "nbformat": 4,
 "nbformat_minor": 5
}
